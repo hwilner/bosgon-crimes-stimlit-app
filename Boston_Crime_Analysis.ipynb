{
  "nbformat": 4,
  "nbformat_minor": 0,
  "metadata": {
    "kernelspec": {
      "display_name": "Python 3",
      "language": "python",
      "name": "python3"
    },
    "language_info": {
      "codemirror_mode": {
        "name": "ipython",
        "version": 3
      },
      "file_extension": ".py",
      "mimetype": "text/x-python",
      "name": "python",
      "nbconvert_exporter": "python",
      "pygments_lexer": "ipython3",
      "version": "3.7.5"
    },
    "colab": {
      "name": "Boston Crime Analysis.ipynb",
      "provenance": []
    }
  },
  "cells": [
    {
      "cell_type": "markdown",
      "metadata": {
        "id": "D6wvREQo8O48"
      },
      "source": [
        "### Exploratory Data Analysis of Boston Crime Dataset"
      ]
    },
    {
      "cell_type": "markdown",
      "metadata": {
        "id": "klI8NwgQ8O4-"
      },
      "source": [
        "### Data Preparation"
      ]
    },
    {
      "cell_type": "code",
      "metadata": {
        "id": "T5F5mU8X8O4_"
      },
      "source": [
        "# Load EDA Pkgs\n",
        "import pandas as pd \n",
        "import numpy as np "
      ],
      "execution_count": null,
      "outputs": []
    },
    {
      "cell_type": "code",
      "metadata": {
        "id": "w65uBZz58O5J",
        "outputId": "06076406-1f5d-4e00-a068-86addccc2fdb"
      },
      "source": [
        "# Load Data Viz Pkgs\n",
        "import matplotlib.pyplot as plt\n",
        "import seaborn as sns"
      ],
      "execution_count": null,
      "outputs": [
        {
          "output_type": "stream",
          "text": [
            "/usr/local/lib/python3.7/dist-packages/statsmodels/tools/_testing.py:19: FutureWarning: pandas.util.testing is deprecated. Use the functions in the public API at pandas.testing instead.\n",
            "  import pandas.util.testing as tm\n"
          ],
          "name": "stderr"
        }
      ]
    },
    {
      "cell_type": "code",
      "metadata": {
        "id": "nvPw6vWk8O5R"
      },
      "source": [
        "# Load Dataset\n",
        "df = pd.read_csv(\"data/crime.csv\",encoding='iso-8859-1')"
      ],
      "execution_count": null,
      "outputs": []
    },
    {
      "cell_type": "code",
      "metadata": {
        "id": "vv7dumCF8O5X",
        "outputId": "7a4d4634-2066-436d-a576-4dab5ba0cf2f"
      },
      "source": [
        "df.head()"
      ],
      "execution_count": null,
      "outputs": [
        {
          "output_type": "execute_result",
          "data": {
            "text/html": [
              "<div>\n",
              "<style scoped>\n",
              "    .dataframe tbody tr th:only-of-type {\n",
              "        vertical-align: middle;\n",
              "    }\n",
              "\n",
              "    .dataframe tbody tr th {\n",
              "        vertical-align: top;\n",
              "    }\n",
              "\n",
              "    .dataframe thead th {\n",
              "        text-align: right;\n",
              "    }\n",
              "</style>\n",
              "<table border=\"1\" class=\"dataframe\">\n",
              "  <thead>\n",
              "    <tr style=\"text-align: right;\">\n",
              "      <th></th>\n",
              "      <th>INCIDENT_NUMBER</th>\n",
              "      <th>OFFENSE_CODE</th>\n",
              "      <th>OFFENSE_CODE_GROUP</th>\n",
              "      <th>OFFENSE_DESCRIPTION</th>\n",
              "      <th>DISTRICT</th>\n",
              "      <th>REPORTING_AREA</th>\n",
              "      <th>SHOOTING</th>\n",
              "      <th>OCCURRED_ON_DATE</th>\n",
              "      <th>YEAR</th>\n",
              "      <th>MONTH</th>\n",
              "      <th>DAY_OF_WEEK</th>\n",
              "      <th>HOUR</th>\n",
              "      <th>UCR_PART</th>\n",
              "      <th>STREET</th>\n",
              "      <th>Lat</th>\n",
              "      <th>Long</th>\n",
              "      <th>Location</th>\n",
              "    </tr>\n",
              "  </thead>\n",
              "  <tbody>\n",
              "    <tr>\n",
              "      <th>0</th>\n",
              "      <td>I182070945</td>\n",
              "      <td>619</td>\n",
              "      <td>Larceny</td>\n",
              "      <td>LARCENY ALL OTHERS</td>\n",
              "      <td>D14</td>\n",
              "      <td>808</td>\n",
              "      <td>NaN</td>\n",
              "      <td>2018-09-02 13:00:00</td>\n",
              "      <td>2018</td>\n",
              "      <td>9</td>\n",
              "      <td>Sunday</td>\n",
              "      <td>13</td>\n",
              "      <td>Part One</td>\n",
              "      <td>LINCOLN ST</td>\n",
              "      <td>42.357791</td>\n",
              "      <td>-71.139371</td>\n",
              "      <td>(42.35779134, -71.13937053)</td>\n",
              "    </tr>\n",
              "    <tr>\n",
              "      <th>1</th>\n",
              "      <td>I182070943</td>\n",
              "      <td>1402</td>\n",
              "      <td>Vandalism</td>\n",
              "      <td>VANDALISM</td>\n",
              "      <td>C11</td>\n",
              "      <td>347</td>\n",
              "      <td>NaN</td>\n",
              "      <td>2018-08-21 00:00:00</td>\n",
              "      <td>2018</td>\n",
              "      <td>8</td>\n",
              "      <td>Tuesday</td>\n",
              "      <td>0</td>\n",
              "      <td>Part Two</td>\n",
              "      <td>HECLA ST</td>\n",
              "      <td>42.306821</td>\n",
              "      <td>-71.060300</td>\n",
              "      <td>(42.30682138, -71.06030035)</td>\n",
              "    </tr>\n",
              "    <tr>\n",
              "      <th>2</th>\n",
              "      <td>I182070941</td>\n",
              "      <td>3410</td>\n",
              "      <td>Towed</td>\n",
              "      <td>TOWED MOTOR VEHICLE</td>\n",
              "      <td>D4</td>\n",
              "      <td>151</td>\n",
              "      <td>NaN</td>\n",
              "      <td>2018-09-03 19:27:00</td>\n",
              "      <td>2018</td>\n",
              "      <td>9</td>\n",
              "      <td>Monday</td>\n",
              "      <td>19</td>\n",
              "      <td>Part Three</td>\n",
              "      <td>CAZENOVE ST</td>\n",
              "      <td>42.346589</td>\n",
              "      <td>-71.072429</td>\n",
              "      <td>(42.34658879, -71.07242943)</td>\n",
              "    </tr>\n",
              "    <tr>\n",
              "      <th>3</th>\n",
              "      <td>I182070940</td>\n",
              "      <td>3114</td>\n",
              "      <td>Investigate Property</td>\n",
              "      <td>INVESTIGATE PROPERTY</td>\n",
              "      <td>D4</td>\n",
              "      <td>272</td>\n",
              "      <td>NaN</td>\n",
              "      <td>2018-09-03 21:16:00</td>\n",
              "      <td>2018</td>\n",
              "      <td>9</td>\n",
              "      <td>Monday</td>\n",
              "      <td>21</td>\n",
              "      <td>Part Three</td>\n",
              "      <td>NEWCOMB ST</td>\n",
              "      <td>42.334182</td>\n",
              "      <td>-71.078664</td>\n",
              "      <td>(42.33418175, -71.07866441)</td>\n",
              "    </tr>\n",
              "    <tr>\n",
              "      <th>4</th>\n",
              "      <td>I182070938</td>\n",
              "      <td>3114</td>\n",
              "      <td>Investigate Property</td>\n",
              "      <td>INVESTIGATE PROPERTY</td>\n",
              "      <td>B3</td>\n",
              "      <td>421</td>\n",
              "      <td>NaN</td>\n",
              "      <td>2018-09-03 21:05:00</td>\n",
              "      <td>2018</td>\n",
              "      <td>9</td>\n",
              "      <td>Monday</td>\n",
              "      <td>21</td>\n",
              "      <td>Part Three</td>\n",
              "      <td>DELHI ST</td>\n",
              "      <td>42.275365</td>\n",
              "      <td>-71.090361</td>\n",
              "      <td>(42.27536542, -71.09036101)</td>\n",
              "    </tr>\n",
              "  </tbody>\n",
              "</table>\n",
              "</div>"
            ],
            "text/plain": [
              "  INCIDENT_NUMBER  OFFENSE_CODE    OFFENSE_CODE_GROUP   OFFENSE_DESCRIPTION  \\\n",
              "0      I182070945           619               Larceny    LARCENY ALL OTHERS   \n",
              "1      I182070943          1402             Vandalism             VANDALISM   \n",
              "2      I182070941          3410                 Towed   TOWED MOTOR VEHICLE   \n",
              "3      I182070940          3114  Investigate Property  INVESTIGATE PROPERTY   \n",
              "4      I182070938          3114  Investigate Property  INVESTIGATE PROPERTY   \n",
              "\n",
              "  DISTRICT REPORTING_AREA SHOOTING     OCCURRED_ON_DATE  YEAR  MONTH  \\\n",
              "0      D14            808      NaN  2018-09-02 13:00:00  2018      9   \n",
              "1      C11            347      NaN  2018-08-21 00:00:00  2018      8   \n",
              "2       D4            151      NaN  2018-09-03 19:27:00  2018      9   \n",
              "3       D4            272      NaN  2018-09-03 21:16:00  2018      9   \n",
              "4       B3            421      NaN  2018-09-03 21:05:00  2018      9   \n",
              "\n",
              "  DAY_OF_WEEK  HOUR    UCR_PART       STREET        Lat       Long  \\\n",
              "0      Sunday    13    Part One   LINCOLN ST  42.357791 -71.139371   \n",
              "1     Tuesday     0    Part Two     HECLA ST  42.306821 -71.060300   \n",
              "2      Monday    19  Part Three  CAZENOVE ST  42.346589 -71.072429   \n",
              "3      Monday    21  Part Three   NEWCOMB ST  42.334182 -71.078664   \n",
              "4      Monday    21  Part Three     DELHI ST  42.275365 -71.090361   \n",
              "\n",
              "                      Location  \n",
              "0  (42.35779134, -71.13937053)  \n",
              "1  (42.30682138, -71.06030035)  \n",
              "2  (42.34658879, -71.07242943)  \n",
              "3  (42.33418175, -71.07866441)  \n",
              "4  (42.27536542, -71.09036101)  "
            ]
          },
          "metadata": {
            "tags": []
          },
          "execution_count": 4
        }
      ]
    },
    {
      "cell_type": "code",
      "metadata": {
        "id": "FOlWyC3c8O5e",
        "outputId": "100bc2ed-723e-46fe-f1d0-ecf163e7f145"
      },
      "source": [
        "# Shape of Data\n",
        "df.shape"
      ],
      "execution_count": null,
      "outputs": [
        {
          "output_type": "execute_result",
          "data": {
            "text/plain": [
              "(319073, 17)"
            ]
          },
          "metadata": {
            "tags": []
          },
          "execution_count": 5
        }
      ]
    },
    {
      "cell_type": "code",
      "metadata": {
        "id": "RY7rCpMv8O5j",
        "outputId": "b1f650e7-8776-4a35-8fce-e886d52a70aa"
      },
      "source": [
        "# Descriptive Stats\n",
        "df.describe()"
      ],
      "execution_count": null,
      "outputs": [
        {
          "output_type": "execute_result",
          "data": {
            "text/html": [
              "<div>\n",
              "<style scoped>\n",
              "    .dataframe tbody tr th:only-of-type {\n",
              "        vertical-align: middle;\n",
              "    }\n",
              "\n",
              "    .dataframe tbody tr th {\n",
              "        vertical-align: top;\n",
              "    }\n",
              "\n",
              "    .dataframe thead th {\n",
              "        text-align: right;\n",
              "    }\n",
              "</style>\n",
              "<table border=\"1\" class=\"dataframe\">\n",
              "  <thead>\n",
              "    <tr style=\"text-align: right;\">\n",
              "      <th></th>\n",
              "      <th>OFFENSE_CODE</th>\n",
              "      <th>YEAR</th>\n",
              "      <th>MONTH</th>\n",
              "      <th>HOUR</th>\n",
              "      <th>Lat</th>\n",
              "      <th>Long</th>\n",
              "    </tr>\n",
              "  </thead>\n",
              "  <tbody>\n",
              "    <tr>\n",
              "      <th>count</th>\n",
              "      <td>319073.000000</td>\n",
              "      <td>319073.000000</td>\n",
              "      <td>319073.000000</td>\n",
              "      <td>319073.000000</td>\n",
              "      <td>299074.000000</td>\n",
              "      <td>299074.000000</td>\n",
              "    </tr>\n",
              "    <tr>\n",
              "      <th>mean</th>\n",
              "      <td>2317.546956</td>\n",
              "      <td>2016.560586</td>\n",
              "      <td>6.609719</td>\n",
              "      <td>13.118205</td>\n",
              "      <td>42.214381</td>\n",
              "      <td>-70.908272</td>\n",
              "    </tr>\n",
              "    <tr>\n",
              "      <th>std</th>\n",
              "      <td>1185.285543</td>\n",
              "      <td>0.996344</td>\n",
              "      <td>3.273691</td>\n",
              "      <td>6.294205</td>\n",
              "      <td>2.159766</td>\n",
              "      <td>3.493618</td>\n",
              "    </tr>\n",
              "    <tr>\n",
              "      <th>min</th>\n",
              "      <td>111.000000</td>\n",
              "      <td>2015.000000</td>\n",
              "      <td>1.000000</td>\n",
              "      <td>0.000000</td>\n",
              "      <td>-1.000000</td>\n",
              "      <td>-71.178674</td>\n",
              "    </tr>\n",
              "    <tr>\n",
              "      <th>25%</th>\n",
              "      <td>1001.000000</td>\n",
              "      <td>2016.000000</td>\n",
              "      <td>4.000000</td>\n",
              "      <td>9.000000</td>\n",
              "      <td>42.297442</td>\n",
              "      <td>-71.097135</td>\n",
              "    </tr>\n",
              "    <tr>\n",
              "      <th>50%</th>\n",
              "      <td>2907.000000</td>\n",
              "      <td>2017.000000</td>\n",
              "      <td>7.000000</td>\n",
              "      <td>14.000000</td>\n",
              "      <td>42.325538</td>\n",
              "      <td>-71.077524</td>\n",
              "    </tr>\n",
              "    <tr>\n",
              "      <th>75%</th>\n",
              "      <td>3201.000000</td>\n",
              "      <td>2017.000000</td>\n",
              "      <td>9.000000</td>\n",
              "      <td>18.000000</td>\n",
              "      <td>42.348624</td>\n",
              "      <td>-71.062467</td>\n",
              "    </tr>\n",
              "    <tr>\n",
              "      <th>max</th>\n",
              "      <td>3831.000000</td>\n",
              "      <td>2018.000000</td>\n",
              "      <td>12.000000</td>\n",
              "      <td>23.000000</td>\n",
              "      <td>42.395042</td>\n",
              "      <td>-1.000000</td>\n",
              "    </tr>\n",
              "  </tbody>\n",
              "</table>\n",
              "</div>"
            ],
            "text/plain": [
              "        OFFENSE_CODE           YEAR          MONTH           HOUR  \\\n",
              "count  319073.000000  319073.000000  319073.000000  319073.000000   \n",
              "mean     2317.546956    2016.560586       6.609719      13.118205   \n",
              "std      1185.285543       0.996344       3.273691       6.294205   \n",
              "min       111.000000    2015.000000       1.000000       0.000000   \n",
              "25%      1001.000000    2016.000000       4.000000       9.000000   \n",
              "50%      2907.000000    2017.000000       7.000000      14.000000   \n",
              "75%      3201.000000    2017.000000       9.000000      18.000000   \n",
              "max      3831.000000    2018.000000      12.000000      23.000000   \n",
              "\n",
              "                 Lat           Long  \n",
              "count  299074.000000  299074.000000  \n",
              "mean       42.214381     -70.908272  \n",
              "std         2.159766       3.493618  \n",
              "min        -1.000000     -71.178674  \n",
              "25%        42.297442     -71.097135  \n",
              "50%        42.325538     -71.077524  \n",
              "75%        42.348624     -71.062467  \n",
              "max        42.395042      -1.000000  "
            ]
          },
          "metadata": {
            "tags": []
          },
          "execution_count": 6
        }
      ]
    },
    {
      "cell_type": "markdown",
      "metadata": {
        "id": "fR0BWZpU8O5s"
      },
      "source": [
        "#### Task 1\n",
        "+ Implement the following behavior in the supplied app.py file:\n",
        "    1. Give the option to choose an hour and then plot on a map all the locations where crimes were committed in the city:"
      ]
    },
    {
      "cell_type": "markdown",
      "metadata": {
        "id": "8Uk8ZSdO8O5t"
      },
      "source": [
        "#### Task 2\n",
        "+ Give the option to choose from the top 10 offenses (The offenses that happen most often, each row counts as one offense) and then count the number of times this offense happened per day of the week.\n",
        "\n",
        "\n",
        "#### Solution\n",
        "+ Find names of all offenses\n",
        "+ Find the value count of each offense\n",
        "+ Find top 10 offenses via nlargest\n",
        "+ Find the number of times per day using groupby"
      ]
    },
    {
      "cell_type": "code",
      "metadata": {
        "id": "abbilPri8O5v",
        "outputId": "f440b5a9-7b21-488b-aa9c-e868c16763cc"
      },
      "source": [
        "# Named of Columns\n",
        "df.columns"
      ],
      "execution_count": null,
      "outputs": [
        {
          "output_type": "execute_result",
          "data": {
            "text/plain": [
              "Index(['INCIDENT_NUMBER', 'OFFENSE_CODE', 'OFFENSE_CODE_GROUP',\n",
              "       'OFFENSE_DESCRIPTION', 'DISTRICT', 'REPORTING_AREA', 'SHOOTING',\n",
              "       'OCCURRED_ON_DATE', 'YEAR', 'MONTH', 'DAY_OF_WEEK', 'HOUR', 'UCR_PART',\n",
              "       'STREET', 'Lat', 'Long', 'Location'],\n",
              "      dtype='object')"
            ]
          },
          "metadata": {
            "tags": []
          },
          "execution_count": 7
        }
      ]
    },
    {
      "cell_type": "code",
      "metadata": {
        "id": "t2TZE_2s8O50",
        "outputId": "41e14930-ba4d-45ad-910f-6b0953de7dc2"
      },
      "source": [
        "# List all offenses in our dataset\n",
        "df['OFFENSE_CODE_GROUP'].unique()"
      ],
      "execution_count": null,
      "outputs": [
        {
          "output_type": "execute_result",
          "data": {
            "text/plain": [
              "array(['Larceny', 'Vandalism', 'Towed', 'Investigate Property',\n",
              "       'Motor Vehicle Accident Response', 'Auto Theft', 'Verbal Disputes',\n",
              "       'Robbery', 'Fire Related Reports', 'Other', 'Property Lost',\n",
              "       'Medical Assistance', 'Assembly or Gathering Violations',\n",
              "       'Larceny From Motor Vehicle', 'Residential Burglary',\n",
              "       'Simple Assault', 'Restraining Order Violations', 'Violations',\n",
              "       'Harassment', 'Ballistics', 'Property Found',\n",
              "       'Police Service Incidents', 'Drug Violation', 'Warrant Arrests',\n",
              "       'Disorderly Conduct', 'Property Related Damage',\n",
              "       'Missing Person Reported', 'Investigate Person', 'Fraud',\n",
              "       'Aggravated Assault', 'License Plate Related Incidents',\n",
              "       'Firearm Violations', 'Other Burglary', 'Arson', 'Bomb Hoax',\n",
              "       'Harbor Related Incidents', 'Counterfeiting', 'Liquor Violation',\n",
              "       'Firearm Discovery', 'Landlord/Tenant Disputes',\n",
              "       'Missing Person Located', 'Auto Theft Recovery', 'Service',\n",
              "       'Operating Under the Influence', 'Confidence Games',\n",
              "       'Search Warrants', 'License Violation', 'Commercial Burglary',\n",
              "       'HOME INVASION', 'Recovered Stolen Property',\n",
              "       'Offenses Against Child / Family', 'Prostitution', 'Evading Fare',\n",
              "       'Prisoner Related Incidents', 'Homicide', 'Embezzlement',\n",
              "       'Explosives', 'Criminal Harassment', 'Phone Call Complaints',\n",
              "       'Aircraft', 'Biological Threat', 'Manslaughter', 'Gambling',\n",
              "       'INVESTIGATE PERSON', 'HUMAN TRAFFICKING',\n",
              "       'HUMAN TRAFFICKING - INVOLUNTARY SERVITUDE',\n",
              "       'Burglary - No Property Taken'], dtype=object)"
            ]
          },
          "metadata": {
            "tags": []
          },
          "execution_count": 8
        }
      ]
    },
    {
      "cell_type": "code",
      "metadata": {
        "id": "bBd2yI0H8O56",
        "outputId": "394ab397-d194-437f-d738-f1cbfdb5e757"
      },
      "source": [
        "# Number of unique offenses\n",
        "len(df['OFFENSE_CODE_GROUP'].unique())"
      ],
      "execution_count": null,
      "outputs": [
        {
          "output_type": "execute_result",
          "data": {
            "text/plain": [
              "67"
            ]
          },
          "metadata": {
            "tags": []
          },
          "execution_count": 9
        }
      ]
    },
    {
      "cell_type": "code",
      "metadata": {
        "id": "QBGBQaVy8O5_",
        "outputId": "7127adab-49dd-4ab2-b598-ecad900e34de"
      },
      "source": [
        "# Get Top 10 Offenses\n",
        "df['OFFENSE_CODE_GROUP'].value_counts().nlargest(10)"
      ],
      "execution_count": null,
      "outputs": [
        {
          "output_type": "execute_result",
          "data": {
            "text/plain": [
              "Motor Vehicle Accident Response    37132\n",
              "Larceny                            25935\n",
              "Medical Assistance                 23540\n",
              "Investigate Person                 18750\n",
              "Other                              18075\n",
              "Drug Violation                     16548\n",
              "Simple Assault                     15826\n",
              "Vandalism                          15415\n",
              "Verbal Disputes                    13099\n",
              "Towed                              11287\n",
              "Name: OFFENSE_CODE_GROUP, dtype: int64"
            ]
          },
          "metadata": {
            "tags": []
          },
          "execution_count": 10
        }
      ]
    },
    {
      "cell_type": "code",
      "metadata": {
        "id": "Joy_IYYa8O6E",
        "outputId": "c8aa2bb6-9eca-44f3-adb9-0637190901ec"
      },
      "source": [
        "# Day of week\n",
        "df['DAY_OF_WEEK']"
      ],
      "execution_count": null,
      "outputs": [
        {
          "output_type": "execute_result",
          "data": {
            "text/plain": [
              "0           Sunday\n",
              "1          Tuesday\n",
              "2           Monday\n",
              "3           Monday\n",
              "4           Monday\n",
              "            ...   \n",
              "319068      Sunday\n",
              "319069    Thursday\n",
              "319070    Thursday\n",
              "319071     Tuesday\n",
              "319072      Monday\n",
              "Name: DAY_OF_WEEK, Length: 319073, dtype: object"
            ]
          },
          "metadata": {
            "tags": []
          },
          "execution_count": 11
        }
      ]
    },
    {
      "cell_type": "code",
      "metadata": {
        "id": "fLgwwdqM8O6P"
      },
      "source": [
        "# Convert DAY_OF_WEEK to an ordered category\n",
        "df['DAY_OF_WEEK'] = pd.Categorical(df.DAY_OF_WEEK, \n",
        "              categories=['Monday','Tuesday','Wednesday','Thursday','Friday','Saturday','Sunday'],\n",
        "              ordered=True)\n"
      ],
      "execution_count": null,
      "outputs": []
    },
    {
      "cell_type": "code",
      "metadata": {
        "id": "fhkwGFlO8O6V",
        "outputId": "79915da0-e537-4893-90c9-ef5e8bdf0aa4"
      },
      "source": [
        "df['DAY_OF_WEEK']"
      ],
      "execution_count": null,
      "outputs": [
        {
          "output_type": "execute_result",
          "data": {
            "text/plain": [
              "0           Sunday\n",
              "1          Tuesday\n",
              "2           Monday\n",
              "3           Monday\n",
              "4           Monday\n",
              "            ...   \n",
              "319068      Sunday\n",
              "319069    Thursday\n",
              "319070    Thursday\n",
              "319071     Tuesday\n",
              "319072      Monday\n",
              "Name: DAY_OF_WEEK, Length: 319073, dtype: category\n",
              "Categories (7, object): ['Monday' < 'Tuesday' < 'Wednesday' < 'Thursday' < 'Friday' < 'Saturday' < 'Sunday']"
            ]
          },
          "metadata": {
            "tags": []
          },
          "execution_count": 13
        }
      ]
    },
    {
      "cell_type": "code",
      "metadata": {
        "id": "sjFJyxB28O6w",
        "outputId": "8bcef8ce-f2ab-47eb-dcbc-7f3c80d2e7ac"
      },
      "source": [
        "# Total Number of Offenses Per Day of the week for Vandalism\n",
        "df[df['OFFENSE_CODE_GROUP'] == 'Vandalism']['DAY_OF_WEEK'].value_counts()"
      ],
      "execution_count": null,
      "outputs": [
        {
          "output_type": "execute_result",
          "data": {
            "text/plain": [
              "Saturday     2437\n",
              "Sunday       2420\n",
              "Friday       2228\n",
              "Monday       2132\n",
              "Wednesday    2101\n",
              "Tuesday      2071\n",
              "Thursday     2026\n",
              "Name: DAY_OF_WEEK, dtype: int64"
            ]
          },
          "metadata": {
            "tags": []
          },
          "execution_count": 14
        }
      ]
    },
    {
      "cell_type": "code",
      "metadata": {
        "id": "JniQJ-UE8O67",
        "outputId": "cbdd5b3b-57e6-4157-b66c-defa0be7919e"
      },
      "source": [
        "# Plot For Vandalism Per Day of the week\n",
        "sns.countplot(df[df['OFFENSE_CODE_GROUP'] == 'Vandalism']['DAY_OF_WEEK'])"
      ],
      "execution_count": null,
      "outputs": [
        {
          "output_type": "execute_result",
          "data": {
            "text/plain": [
              "<matplotlib.axes._subplots.AxesSubplot at 0x7f548e296e10>"
            ]
          },
          "metadata": {
            "tags": []
          },
          "execution_count": 15
        },
        {
          "output_type": "display_data",
          "data": {
            "image/png": "[encoded data removed]",
            "text/plain": [
              "<Figure size 432x288 with 1 Axes>"
            ]
          },
          "metadata": {
            "tags": [],
            "needs_background": "light"
          }
        }
      ]
    },
    {
      "cell_type": "code",
      "metadata": {
        "id": "qgbb17kb8O7H"
      },
      "source": [
        ""
      ],
      "execution_count": null,
      "outputs": []
    },
    {
      "cell_type": "code",
      "metadata": {
        "id": "nVfYEv-E8O8m",
        "outputId": "9f97691c-da42-4ba2-89b6-583af56b1e68"
      },
      "source": [
        "df[df['OFFENSE_CODE_GROUP'] == 'Vandalism']['DAY_OF_WEEK']"
      ],
      "execution_count": null,
      "outputs": [
        {
          "output_type": "execute_result",
          "data": {
            "text/plain": [
              "1          Tuesday\n",
              "43        Saturday\n",
              "47          Monday\n",
              "57          Friday\n",
              "104         Monday\n",
              "            ...   \n",
              "318682      Monday\n",
              "318695      Monday\n",
              "318699      Monday\n",
              "318824    Thursday\n",
              "318826    Thursday\n",
              "Name: DAY_OF_WEEK, Length: 15415, dtype: category\n",
              "Categories (7, object): ['Monday' < 'Tuesday' < 'Wednesday' < 'Thursday' < 'Friday' < 'Saturday' < 'Sunday']"
            ]
          },
          "metadata": {
            "tags": []
          },
          "execution_count": 68
        }
      ]
    },
    {
      "cell_type": "code",
      "metadata": {
        "id": "ABruRv7-8O9e",
        "outputId": "7431f8e8-1757-460d-bddb-8d46184a440b"
      },
      "source": [
        "df.columns\n"
      ],
      "execution_count": null,
      "outputs": [
        {
          "output_type": "execute_result",
          "data": {
            "text/plain": [
              "Index(['INCIDENT_NUMBER', 'OFFENSE_CODE', 'OFFENSE_CODE_GROUP',\n",
              "       'OFFENSE_DESCRIPTION', 'DISTRICT', 'REPORTING_AREA', 'SHOOTING',\n",
              "       'OCCURRED_ON_DATE', 'YEAR', 'MONTH', 'DAY_OF_WEEK', 'HOUR', 'UCR_PART',\n",
              "       'STREET', 'Lat', 'Long', 'Location'],\n",
              "      dtype='object')"
            ]
          },
          "metadata": {
            "tags": []
          },
          "execution_count": 69
        }
      ]
    },
    {
      "cell_type": "code",
      "metadata": {
        "id": "WLMh2z5E8O95"
      },
      "source": [
        "df_count_per_week = df[['OFFENSE_CODE_GROUP','DAY_OF_WEEK']]"
      ],
      "execution_count": null,
      "outputs": []
    },
    {
      "cell_type": "code",
      "metadata": {
        "id": "8d0JgFCE8O-R"
      },
      "source": [
        "df_count_per_week.to_csv(\"count_per_week_crime_data.csv\")"
      ],
      "execution_count": null,
      "outputs": []
    },
    {
      "cell_type": "code",
      "metadata": {
        "id": "YnpXiGnT8O-r"
      },
      "source": [
        "# Function to Find Top Offense Per Day of Week\n",
        "def get_count_of_offense_per_day_of_week(offense):\n",
        "    # Plot For Vandalism Per Day of the week\n",
        "    plt.title(\"Count of Offense for {}\".format(offense))\n",
        "    sns.countplot(df[df['OFFENSE_CODE_GROUP'] == offense]['DAY_OF_WEEK'])\n",
        "    plt.show()"
      ],
      "execution_count": null,
      "outputs": []
    },
    {
      "cell_type": "code",
      "metadata": {
        "id": "x3rzAw1S8O-y",
        "outputId": "90a7fefa-0be6-4e63-f083-b311f4e5d862"
      },
      "source": [
        "get_count_of_offense_per_day_of_week(\"Larceny\")"
      ],
      "execution_count": null,
      "outputs": [
        {
          "output_type": "display_data",
          "data": {
            "image/png": "[encoded data removed]",
            "text/plain": [
              "<Figure size 432x288 with 1 Axes>"
            ]
          },
          "metadata": {
            "tags": [],
            "needs_background": "light"
          }
        }
      ]
    },
    {
      "cell_type": "markdown",
      "metadata": {
        "id": "0JGri6878O--"
      },
      "source": [
        "#### Task 3\n",
        "+     3. Give the option to choose one of the possible districts in the dataset and then plot 2 bar plots (one for 2016 and one for 2017) of the average amount of serious crime in each month in that district.\n",
        "        a. Serious crimes are [Larceny, Robbery, Drug Violation, Auto Theft]\n",
        "        b. Example: If in a district in January you had 10 Larceny incidents, 15 robberies, 20 drug violation and 3 auto theft, then your average serious crime rate is 12.\n",
        "        \n",
        "#### Solution\n",
        "+ Find rows with serious crime only\n",
        "+ Group by districts and year\n",
        "+ Find the count of each crime\n",
        "+ Find average count"
      ]
    },
    {
      "cell_type": "code",
      "metadata": {
        "id": "ePknVGoB8O-_",
        "outputId": "1662e850-4f09-4f0a-fe33-86bda9a4ff6c"
      },
      "source": [
        "df.columns"
      ],
      "execution_count": null,
      "outputs": [
        {
          "output_type": "execute_result",
          "data": {
            "text/plain": [
              "Index(['INCIDENT_NUMBER', 'OFFENSE_CODE', 'OFFENSE_CODE_GROUP',\n",
              "       'OFFENSE_DESCRIPTION', 'DISTRICT', 'REPORTING_AREA', 'SHOOTING',\n",
              "       'OCCURRED_ON_DATE', 'YEAR', 'MONTH', 'DAY_OF_WEEK', 'HOUR', 'UCR_PART',\n",
              "       'STREET', 'Lat', 'Long', 'Location'],\n",
              "      dtype='object')"
            ]
          },
          "metadata": {
            "tags": []
          },
          "execution_count": 20
        }
      ]
    },
    {
      "cell_type": "code",
      "metadata": {
        "id": "GQKWlLcV8O_S",
        "outputId": "2f43a3a0-ab3b-4287-b8f2-fce219790c77"
      },
      "source": [
        "# List of Districts\n",
        "df['DISTRICT'].unique()"
      ],
      "execution_count": null,
      "outputs": [
        {
          "output_type": "execute_result",
          "data": {
            "text/plain": [
              "array(['D14', 'C11', 'D4', 'B3', 'B2', 'C6', nan, 'A1', 'E5', 'A7', 'E13',\n",
              "       'E18', 'A15'], dtype=object)"
            ]
          },
          "metadata": {
            "tags": []
          },
          "execution_count": 21
        }
      ]
    },
    {
      "cell_type": "code",
      "metadata": {
        "id": "yp7mfPJo8O_h",
        "outputId": "10b92a86-2f81-41af-c68b-5ffd3b75953d"
      },
      "source": [
        "# Find All District C11 and Year 2016\n",
        "df[(df['DISTRICT'] == 'C11') & (df['YEAR'] == 2016)]"
      ],
      "execution_count": null,
      "outputs": [
        {
          "output_type": "execute_result",
          "data": {
            "text/html": [
              "<div>\n",
              "<style scoped>\n",
              "    .dataframe tbody tr th:only-of-type {\n",
              "        vertical-align: middle;\n",
              "    }\n",
              "\n",
              "    .dataframe tbody tr th {\n",
              "        vertical-align: top;\n",
              "    }\n",
              "\n",
              "    .dataframe thead th {\n",
              "        text-align: right;\n",
              "    }\n",
              "</style>\n",
              "<table border=\"1\" class=\"dataframe\">\n",
              "  <thead>\n",
              "    <tr style=\"text-align: right;\">\n",
              "      <th></th>\n",
              "      <th>INCIDENT_NUMBER</th>\n",
              "      <th>OFFENSE_CODE</th>\n",
              "      <th>OFFENSE_CODE_GROUP</th>\n",
              "      <th>OFFENSE_DESCRIPTION</th>\n",
              "      <th>DISTRICT</th>\n",
              "      <th>REPORTING_AREA</th>\n",
              "      <th>SHOOTING</th>\n",
              "      <th>OCCURRED_ON_DATE</th>\n",
              "      <th>YEAR</th>\n",
              "      <th>MONTH</th>\n",
              "      <th>DAY_OF_WEEK</th>\n",
              "      <th>HOUR</th>\n",
              "      <th>UCR_PART</th>\n",
              "      <th>STREET</th>\n",
              "      <th>Lat</th>\n",
              "      <th>Long</th>\n",
              "      <th>Location</th>\n",
              "    </tr>\n",
              "  </thead>\n",
              "  <tbody>\n",
              "    <tr>\n",
              "      <th>1813</th>\n",
              "      <td>I182068927</td>\n",
              "      <td>1107</td>\n",
              "      <td>Fraud</td>\n",
              "      <td>FRAUD - IMPERSONATION</td>\n",
              "      <td>C11</td>\n",
              "      <td>384</td>\n",
              "      <td>NaN</td>\n",
              "      <td>2016-01-10 00:00:00</td>\n",
              "      <td>2016</td>\n",
              "      <td>1</td>\n",
              "      <td>Sunday</td>\n",
              "      <td>0</td>\n",
              "      <td>Part Two</td>\n",
              "      <td>HILL TOP ST</td>\n",
              "      <td>42.280498</td>\n",
              "      <td>-71.048885</td>\n",
              "      <td>(42.28049764, -71.04888519)</td>\n",
              "    </tr>\n",
              "    <tr>\n",
              "      <th>18989</th>\n",
              "      <td>I182050387</td>\n",
              "      <td>3201</td>\n",
              "      <td>Property Lost</td>\n",
              "      <td>PROPERTY - LOST</td>\n",
              "      <td>C11</td>\n",
              "      <td>249</td>\n",
              "      <td>NaN</td>\n",
              "      <td>2016-09-06 00:00:00</td>\n",
              "      <td>2016</td>\n",
              "      <td>9</td>\n",
              "      <td>Tuesday</td>\n",
              "      <td>0</td>\n",
              "      <td>Part Three</td>\n",
              "      <td>SYDNEY ST</td>\n",
              "      <td>42.313279</td>\n",
              "      <td>-71.052921</td>\n",
              "      <td>(42.31327922, -71.05292093)</td>\n",
              "    </tr>\n",
              "    <tr>\n",
              "      <th>21441</th>\n",
              "      <td>I182047771</td>\n",
              "      <td>2647</td>\n",
              "      <td>Other</td>\n",
              "      <td>THREATS TO DO BODILY HARM</td>\n",
              "      <td>C11</td>\n",
              "      <td>356</td>\n",
              "      <td>NaN</td>\n",
              "      <td>2016-01-01 12:00:00</td>\n",
              "      <td>2016</td>\n",
              "      <td>1</td>\n",
              "      <td>Friday</td>\n",
              "      <td>12</td>\n",
              "      <td>Part Two</td>\n",
              "      <td>CHARLES ST</td>\n",
              "      <td>42.299909</td>\n",
              "      <td>-71.064248</td>\n",
              "      <td>(42.29990887, -71.06424768)</td>\n",
              "    </tr>\n",
              "    <tr>\n",
              "      <th>21663</th>\n",
              "      <td>I182047517</td>\n",
              "      <td>1102</td>\n",
              "      <td>Fraud</td>\n",
              "      <td>FRAUD - FALSE PRETENSE / SCHEME</td>\n",
              "      <td>C11</td>\n",
              "      <td>356</td>\n",
              "      <td>NaN</td>\n",
              "      <td>2016-12-13 00:00:00</td>\n",
              "      <td>2016</td>\n",
              "      <td>12</td>\n",
              "      <td>Tuesday</td>\n",
              "      <td>0</td>\n",
              "      <td>Part Two</td>\n",
              "      <td>CHARLES ST</td>\n",
              "      <td>42.300605</td>\n",
              "      <td>-71.061268</td>\n",
              "      <td>(42.30060543, -71.06126785)</td>\n",
              "    </tr>\n",
              "    <tr>\n",
              "      <th>25888</th>\n",
              "      <td>I182043088</td>\n",
              "      <td>1102</td>\n",
              "      <td>Fraud</td>\n",
              "      <td>FRAUD - FALSE PRETENSE / SCHEME</td>\n",
              "      <td>C11</td>\n",
              "      <td>817</td>\n",
              "      <td>NaN</td>\n",
              "      <td>2016-06-30 00:00:00</td>\n",
              "      <td>2016</td>\n",
              "      <td>6</td>\n",
              "      <td>Thursday</td>\n",
              "      <td>0</td>\n",
              "      <td>Part Two</td>\n",
              "      <td>ARGYLE TER</td>\n",
              "      <td>42.288702</td>\n",
              "      <td>-71.065307</td>\n",
              "      <td>(42.28870235, -71.06530713)</td>\n",
              "    </tr>\n",
              "    <tr>\n",
              "      <th>...</th>\n",
              "      <td>...</td>\n",
              "      <td>...</td>\n",
              "      <td>...</td>\n",
              "      <td>...</td>\n",
              "      <td>...</td>\n",
              "      <td>...</td>\n",
              "      <td>...</td>\n",
              "      <td>...</td>\n",
              "      <td>...</td>\n",
              "      <td>...</td>\n",
              "      <td>...</td>\n",
              "      <td>...</td>\n",
              "      <td>...</td>\n",
              "      <td>...</td>\n",
              "      <td>...</td>\n",
              "      <td>...</td>\n",
              "      <td>...</td>\n",
              "    </tr>\n",
              "    <tr>\n",
              "      <th>318997</th>\n",
              "      <td>I130126035-00</td>\n",
              "      <td>3130</td>\n",
              "      <td>Search Warrants</td>\n",
              "      <td>SEARCH WARRANT</td>\n",
              "      <td>C11</td>\n",
              "      <td>252</td>\n",
              "      <td>NaN</td>\n",
              "      <td>2016-02-09 13:55:00</td>\n",
              "      <td>2016</td>\n",
              "      <td>2</td>\n",
              "      <td>Tuesday</td>\n",
              "      <td>13</td>\n",
              "      <td>Part Three</td>\n",
              "      <td>SAVIN HILL AV</td>\n",
              "      <td>NaN</td>\n",
              "      <td>NaN</td>\n",
              "      <td>(0.00000000, 0.00000000)</td>\n",
              "    </tr>\n",
              "    <tr>\n",
              "      <th>318998</th>\n",
              "      <td>I130126035-00</td>\n",
              "      <td>338</td>\n",
              "      <td>Robbery</td>\n",
              "      <td>ROBBERY - UNARMED - RESIDENCE</td>\n",
              "      <td>C11</td>\n",
              "      <td>252</td>\n",
              "      <td>NaN</td>\n",
              "      <td>2016-02-09 13:55:00</td>\n",
              "      <td>2016</td>\n",
              "      <td>2</td>\n",
              "      <td>Tuesday</td>\n",
              "      <td>13</td>\n",
              "      <td>Part One</td>\n",
              "      <td>SAVIN HILL AV</td>\n",
              "      <td>NaN</td>\n",
              "      <td>NaN</td>\n",
              "      <td>(0.00000000, 0.00000000)</td>\n",
              "    </tr>\n",
              "    <tr>\n",
              "      <th>318999</th>\n",
              "      <td>I130126035-00</td>\n",
              "      <td>617</td>\n",
              "      <td>Larceny</td>\n",
              "      <td>LARCENY IN A BUILDING $200 &amp; OVER</td>\n",
              "      <td>C11</td>\n",
              "      <td>252</td>\n",
              "      <td>NaN</td>\n",
              "      <td>2016-02-09 13:55:00</td>\n",
              "      <td>2016</td>\n",
              "      <td>2</td>\n",
              "      <td>Tuesday</td>\n",
              "      <td>13</td>\n",
              "      <td>Part One</td>\n",
              "      <td>SAVIN HILL AV</td>\n",
              "      <td>NaN</td>\n",
              "      <td>NaN</td>\n",
              "      <td>(0.00000000, 0.00000000)</td>\n",
              "    </tr>\n",
              "    <tr>\n",
              "      <th>319059</th>\n",
              "      <td>I090321958-00</td>\n",
              "      <td>3125</td>\n",
              "      <td>Warrant Arrests</td>\n",
              "      <td>WARRANT ARREST</td>\n",
              "      <td>C11</td>\n",
              "      <td>355</td>\n",
              "      <td>NaN</td>\n",
              "      <td>2016-02-01 01:43:00</td>\n",
              "      <td>2016</td>\n",
              "      <td>2</td>\n",
              "      <td>Monday</td>\n",
              "      <td>1</td>\n",
              "      <td>Part Three</td>\n",
              "      <td>GENEVA AVE</td>\n",
              "      <td>NaN</td>\n",
              "      <td>NaN</td>\n",
              "      <td>(0.00000000, 0.00000000)</td>\n",
              "    </tr>\n",
              "    <tr>\n",
              "      <th>319060</th>\n",
              "      <td>I090321958-00</td>\n",
              "      <td>3125</td>\n",
              "      <td>Warrant Arrests</td>\n",
              "      <td>WARRANT ARREST</td>\n",
              "      <td>C11</td>\n",
              "      <td>355</td>\n",
              "      <td>NaN</td>\n",
              "      <td>2016-02-01 01:43:00</td>\n",
              "      <td>2016</td>\n",
              "      <td>2</td>\n",
              "      <td>Monday</td>\n",
              "      <td>1</td>\n",
              "      <td>Part Three</td>\n",
              "      <td>GENEVA AVE</td>\n",
              "      <td>NaN</td>\n",
              "      <td>NaN</td>\n",
              "      <td>(0.00000000, 0.00000000)</td>\n",
              "    </tr>\n",
              "  </tbody>\n",
              "</table>\n",
              "<p>13603 rows × 17 columns</p>\n",
              "</div>"
            ],
            "text/plain": [
              "       INCIDENT_NUMBER  OFFENSE_CODE OFFENSE_CODE_GROUP  \\\n",
              "1813        I182068927          1107              Fraud   \n",
              "18989       I182050387          3201      Property Lost   \n",
              "21441       I182047771          2647              Other   \n",
              "21663       I182047517          1102              Fraud   \n",
              "25888       I182043088          1102              Fraud   \n",
              "...                ...           ...                ...   \n",
              "318997   I130126035-00          3130    Search Warrants   \n",
              "318998   I130126035-00           338            Robbery   \n",
              "318999   I130126035-00           617            Larceny   \n",
              "319059   I090321958-00          3125    Warrant Arrests   \n",
              "319060   I090321958-00          3125    Warrant Arrests   \n",
              "\n",
              "                      OFFENSE_DESCRIPTION DISTRICT REPORTING_AREA SHOOTING  \\\n",
              "1813                FRAUD - IMPERSONATION      C11            384      NaN   \n",
              "18989                     PROPERTY - LOST      C11            249      NaN   \n",
              "21441           THREATS TO DO BODILY HARM      C11            356      NaN   \n",
              "21663     FRAUD - FALSE PRETENSE / SCHEME      C11            356      NaN   \n",
              "25888     FRAUD - FALSE PRETENSE / SCHEME      C11            817      NaN   \n",
              "...                                   ...      ...            ...      ...   \n",
              "318997                     SEARCH WARRANT      C11            252      NaN   \n",
              "318998      ROBBERY - UNARMED - RESIDENCE      C11            252      NaN   \n",
              "318999  LARCENY IN A BUILDING $200 & OVER      C11            252      NaN   \n",
              "319059                     WARRANT ARREST      C11            355      NaN   \n",
              "319060                     WARRANT ARREST      C11            355      NaN   \n",
              "\n",
              "           OCCURRED_ON_DATE  YEAR  MONTH DAY_OF_WEEK  HOUR    UCR_PART  \\\n",
              "1813    2016-01-10 00:00:00  2016      1      Sunday     0    Part Two   \n",
              "18989   2016-09-06 00:00:00  2016      9     Tuesday     0  Part Three   \n",
              "21441   2016-01-01 12:00:00  2016      1      Friday    12    Part Two   \n",
              "21663   2016-12-13 00:00:00  2016     12     Tuesday     0    Part Two   \n",
              "25888   2016-06-30 00:00:00  2016      6    Thursday     0    Part Two   \n",
              "...                     ...   ...    ...         ...   ...         ...   \n",
              "318997  2016-02-09 13:55:00  2016      2     Tuesday    13  Part Three   \n",
              "318998  2016-02-09 13:55:00  2016      2     Tuesday    13    Part One   \n",
              "318999  2016-02-09 13:55:00  2016      2     Tuesday    13    Part One   \n",
              "319059  2016-02-01 01:43:00  2016      2      Monday     1  Part Three   \n",
              "319060  2016-02-01 01:43:00  2016      2      Monday     1  Part Three   \n",
              "\n",
              "               STREET        Lat       Long                     Location  \n",
              "1813      HILL TOP ST  42.280498 -71.048885  (42.28049764, -71.04888519)  \n",
              "18989       SYDNEY ST  42.313279 -71.052921  (42.31327922, -71.05292093)  \n",
              "21441      CHARLES ST  42.299909 -71.064248  (42.29990887, -71.06424768)  \n",
              "21663      CHARLES ST  42.300605 -71.061268  (42.30060543, -71.06126785)  \n",
              "25888      ARGYLE TER  42.288702 -71.065307  (42.28870235, -71.06530713)  \n",
              "...               ...        ...        ...                          ...  \n",
              "318997  SAVIN HILL AV        NaN        NaN     (0.00000000, 0.00000000)  \n",
              "318998  SAVIN HILL AV        NaN        NaN     (0.00000000, 0.00000000)  \n",
              "318999  SAVIN HILL AV        NaN        NaN     (0.00000000, 0.00000000)  \n",
              "319059     GENEVA AVE        NaN        NaN     (0.00000000, 0.00000000)  \n",
              "319060     GENEVA AVE        NaN        NaN     (0.00000000, 0.00000000)  \n",
              "\n",
              "[13603 rows x 17 columns]"
            ]
          },
          "metadata": {
            "tags": []
          },
          "execution_count": 22
        }
      ]
    },
    {
      "cell_type": "code",
      "metadata": {
        "id": "GhWe-UMs8O_v",
        "outputId": "2a1001f8-fcb1-43d4-cd10-ab7963b470ab"
      },
      "source": [
        "sns.catplot(y='OFFENSE_CODE_GROUP', kind='count', height=10, aspect=1.5, order=df['OFFENSE_CODE_GROUP'].value_counts().index,  data=df)\n",
        "plt.xticks(size=15)\n",
        "plt.yticks(size=15)"
      ],
      "execution_count": null,
      "outputs": [
        {
          "output_type": "execute_result",
          "data": {
            "text/plain": [
              "(array([ 0,  1,  2,  3,  4,  5,  6,  7,  8,  9, 10, 11, 12, 13, 14, 15, 16,\n",
              "        17, 18, 19, 20, 21, 22, 23, 24, 25, 26, 27, 28, 29, 30, 31, 32, 33,\n",
              "        34, 35, 36, 37, 38, 39, 40, 41, 42, 43, 44, 45, 46, 47, 48, 49, 50,\n",
              "        51, 52, 53, 54, 55, 56, 57, 58, 59, 60, 61, 62, 63, 64, 65, 66]),\n",
              " <a list of 67 Text major ticklabel objects>)"
            ]
          },
          "metadata": {
            "tags": []
          },
          "execution_count": 23
        },
        {
          "output_type": "display_data",
          "data": {
            "image/png": "[encoded data removed]",
            "text/plain": [
              "<Figure size 1080x720 with 1 Axes>"
            ]
          },
          "metadata": {
            "tags": [],
            "needs_background": "light"
          }
        }
      ]
    },
    {
      "cell_type": "code",
      "metadata": {
        "id": "C2H30SYt8O_2",
        "outputId": "0340647e-03ab-4478-e1c9-bf0c64757197"
      },
      "source": [
        "# Check if those serious crimes are in the top values\n",
        "df[(df['DISTRICT'] == 'C11') & (df['YEAR'] == 2016)]['OFFENSE_CODE_GROUP'].value_counts().nlargest(10)"
      ],
      "execution_count": null,
      "outputs": [
        {
          "output_type": "execute_result",
          "data": {
            "text/plain": [
              "Motor Vehicle Accident Response    1706\n",
              "Medical Assistance                  984\n",
              "Investigate Person                  882\n",
              "Verbal Disputes                     834\n",
              "Vandalism                           813\n",
              "Other                               790\n",
              "Drug Violation                      784\n",
              "Larceny                             670\n",
              "Simple Assault                      649\n",
              "Warrant Arrests                     445\n",
              "Name: OFFENSE_CODE_GROUP, dtype: int64"
            ]
          },
          "metadata": {
            "tags": []
          },
          "execution_count": 24
        }
      ]
    },
    {
      "cell_type": "code",
      "metadata": {
        "id": "ToBHZ98L8O_9"
      },
      "source": [
        "# Grouped Data For District C11\n",
        "dist_c11 = df[(df['DISTRICT'] == 'C11') & (df['YEAR'] == 2016)]"
      ],
      "execution_count": null,
      "outputs": []
    },
    {
      "cell_type": "code",
      "metadata": {
        "id": "IjwXgo4d8O__",
        "outputId": "8cb9674e-a95c-422f-a3da-8875f006e123"
      },
      "source": [
        "# Size of Crimes Per Month\n",
        "dist_c11.groupby('MONTH')['OFFENSE_CODE_GROUP'].size()"
      ],
      "execution_count": null,
      "outputs": [
        {
          "output_type": "execute_result",
          "data": {
            "text/plain": [
              "MONTH\n",
              "1     1132\n",
              "2      999\n",
              "3     1187\n",
              "4     1156\n",
              "5     1206\n",
              "6     1127\n",
              "7     1172\n",
              "8     1188\n",
              "9     1131\n",
              "10    1103\n",
              "11    1115\n",
              "12    1087\n",
              "Name: OFFENSE_CODE_GROUP, dtype: int64"
            ]
          },
          "metadata": {
            "tags": []
          },
          "execution_count": 27
        }
      ]
    },
    {
      "cell_type": "code",
      "metadata": {
        "id": "xQeIpIpK8PAL",
        "outputId": "b71c27d9-c6a3-4615-b4f3-1d87a352ef49"
      },
      "source": [
        "# Size of Crimes Per Month\n",
        "dist_c11.groupby('MONTH')['OFFENSE_CODE_GROUP'].value_counts()"
      ],
      "execution_count": null,
      "outputs": [
        {
          "output_type": "execute_result",
          "data": {
            "text/plain": [
              "MONTH  OFFENSE_CODE_GROUP             \n",
              "1      Motor Vehicle Accident Response    138\n",
              "       Vandalism                           92\n",
              "       Medical Assistance                  81\n",
              "       Other                               74\n",
              "       Investigate Person                  71\n",
              "                                         ... \n",
              "12     Evading Fare                         1\n",
              "       Homicide                             1\n",
              "       Offenses Against Child / Family      1\n",
              "       Operating Under the Influence        1\n",
              "       Prisoner Related Incidents           1\n",
              "Name: OFFENSE_CODE_GROUP, Length: 581, dtype: int64"
            ]
          },
          "metadata": {
            "tags": []
          },
          "execution_count": 29
        }
      ]
    },
    {
      "cell_type": "code",
      "metadata": {
        "id": "3EJmcN_08PAc",
        "outputId": "e585ddd9-937b-4dc6-d19e-c08510716c2e"
      },
      "source": [
        "# Plot of all crime per month\n",
        "Months = ['Jan','Feb','Mar','Apr','May','Jun','Jul','Aug','Sep','Oct','Nov','Dec']\n",
        "\n",
        "sns.catplot(x='MONTH',\n",
        "           kind='count',\n",
        "            height=8.27, \n",
        "            aspect=3,\n",
        "            color='red',\n",
        "           data=df)\n",
        "plt.xticks(np.arange(12), Months, size=30)\n",
        "\n",
        "# plt.xticks(size=30)\n",
        "plt.yticks(size=30)\n",
        "plt.xlabel('Month', fontsize=40)\n",
        "plt.ylabel('Count', fontsize=40)"
      ],
      "execution_count": null,
      "outputs": [
        {
          "output_type": "execute_result",
          "data": {
            "text/plain": [
              "Text(-8.825000000000003, 0.5, 'Count')"
            ]
          },
          "metadata": {
            "tags": []
          },
          "execution_count": 31
        },
        {
          "output_type": "display_data",
          "data": {
            "image/png": "[encoded data removed]",
            "text/plain": [
              "<Figure size 1786.32x595.44 with 1 Axes>"
            ]
          },
          "metadata": {
            "tags": [],
            "needs_background": "light"
          }
        }
      ]
    },
    {
      "cell_type": "code",
      "metadata": {
        "id": "HJwuYCmg8PAi",
        "outputId": "d4ef0bae-8ccb-4e94-ba38-0fc26b3c50a3"
      },
      "source": [
        "# Plot of all crime per month for District C11\n",
        "\n",
        "sns.catplot(x='MONTH',\n",
        "           kind='count',\n",
        "            height=8.27, \n",
        "            aspect=3,\n",
        "            color='red',\n",
        "           data=dist_c11)\n",
        "plt.xticks(np.arange(12), Months, size=30)\n",
        "\n",
        "# plt.xticks(size=30)\n",
        "plt.yticks(size=30)\n",
        "plt.xlabel('Month', fontsize=40)\n",
        "plt.ylabel('Count', fontsize=40)"
      ],
      "execution_count": null,
      "outputs": [
        {
          "output_type": "execute_result",
          "data": {
            "text/plain": [
              "Text(-2.575000000000003, 0.5, 'Count')"
            ]
          },
          "metadata": {
            "tags": []
          },
          "execution_count": 32
        },
        {
          "output_type": "display_data",
          "data": {
            "image/png": "[encoded data removed]",
            "text/plain": [
              "<Figure size 1786.32x595.44 with 1 Axes>"
            ]
          },
          "metadata": {
            "tags": [],
            "needs_background": "light"
          }
        }
      ]
    },
    {
      "cell_type": "code",
      "metadata": {
        "id": "1DPjGKG-8PA-"
      },
      "source": [
        "# List of Serious Crimes\n",
        "serious_crimes = [\"Larceny\", \"Robbery\", \"Drug Violation\", \"Auto Theft\"]"
      ],
      "execution_count": null,
      "outputs": []
    },
    {
      "cell_type": "code",
      "metadata": {
        "id": "wR2y09VD8PBJ"
      },
      "source": [
        "# Get All Rows with Serious Crimes\n",
        "nx_c11 = dist_c11[dist_c11['OFFENSE_CODE_GROUP'].isin(serious_crimes)]"
      ],
      "execution_count": null,
      "outputs": []
    },
    {
      "cell_type": "code",
      "metadata": {
        "id": "rNJANH5l8PBi"
      },
      "source": [
        "# Save For App\n",
        "nx_c11.to_csv(\"serious_crimes_boston_data.csv\")"
      ],
      "execution_count": null,
      "outputs": []
    },
    {
      "cell_type": "code",
      "metadata": {
        "id": "BXLHZuhq8PBp",
        "outputId": "2612a8b3-71ab-4986-86bd-8030f1f10cee"
      },
      "source": [
        "# Value Counts of Crime Per Month\n",
        "nx_c11.groupby('MONTH')['OFFENSE_CODE_GROUP'].value_counts()"
      ],
      "execution_count": null,
      "outputs": [
        {
          "output_type": "execute_result",
          "data": {
            "text/plain": [
              "MONTH  OFFENSE_CODE_GROUP\n",
              "1      Larceny                60\n",
              "       Drug Violation         56\n",
              "       Robbery                21\n",
              "       Auto Theft             19\n",
              "2      Drug Violation         83\n",
              "       Larceny                42\n",
              "       Auto Theft             11\n",
              "       Robbery                 7\n",
              "3      Drug Violation         82\n",
              "       Larceny                47\n",
              "       Auto Theft             21\n",
              "       Robbery                12\n",
              "4      Drug Violation         80\n",
              "       Larceny                48\n",
              "       Robbery                26\n",
              "       Auto Theft             15\n",
              "5      Drug Violation         74\n",
              "       Larceny                67\n",
              "       Auto Theft             27\n",
              "       Robbery                18\n",
              "6      Drug Violation        107\n",
              "       Larceny                57\n",
              "       Auto Theft             22\n",
              "       Robbery                11\n",
              "7      Drug Violation         58\n",
              "       Larceny                52\n",
              "       Robbery                21\n",
              "       Auto Theft             15\n",
              "8      Larceny                63\n",
              "       Drug Violation         55\n",
              "       Auto Theft             21\n",
              "       Robbery                 7\n",
              "9      Drug Violation         55\n",
              "       Larceny                54\n",
              "       Auto Theft             20\n",
              "       Robbery                18\n",
              "10     Larceny                62\n",
              "       Drug Violation         52\n",
              "       Auto Theft             22\n",
              "       Robbery                22\n",
              "11     Drug Violation         60\n",
              "       Larceny                45\n",
              "       Auto Theft             29\n",
              "       Robbery                16\n",
              "12     Larceny                73\n",
              "       Drug Violation         22\n",
              "       Robbery                21\n",
              "       Auto Theft             13\n",
              "Name: OFFENSE_CODE_GROUP, dtype: int64"
            ]
          },
          "metadata": {
            "tags": []
          },
          "execution_count": 35
        }
      ]
    },
    {
      "cell_type": "code",
      "metadata": {
        "id": "Lsu1FU608PB5"
      },
      "source": [
        "# Convert to a DataFrame\n",
        "serious_crime_per_month = pd.DataFrame(nx_c11.groupby('MONTH')['OFFENSE_CODE_GROUP'].value_counts().to_frame('counts').reset_index())"
      ],
      "execution_count": null,
      "outputs": []
    },
    {
      "cell_type": "code",
      "metadata": {
        "id": "uWTKca_S8PB_",
        "outputId": "f229d988-6d37-4fc4-f549-da15281a7b01"
      },
      "source": [
        "serious_crime_per_month.columns"
      ],
      "execution_count": null,
      "outputs": [
        {
          "output_type": "execute_result",
          "data": {
            "text/plain": [
              "Index(['MONTH', 'OFFENSE_CODE_GROUP', 'counts'], dtype='object')"
            ]
          },
          "metadata": {
            "tags": []
          },
          "execution_count": 37
        }
      ]
    },
    {
      "cell_type": "code",
      "metadata": {
        "id": "KLcwZEek8PCE",
        "outputId": "95618fba-78dd-466b-fe55-eb28ce2f6ff6"
      },
      "source": [
        "serious_crime_per_month.head()"
      ],
      "execution_count": null,
      "outputs": [
        {
          "output_type": "execute_result",
          "data": {
            "text/html": [
              "<div>\n",
              "<style scoped>\n",
              "    .dataframe tbody tr th:only-of-type {\n",
              "        vertical-align: middle;\n",
              "    }\n",
              "\n",
              "    .dataframe tbody tr th {\n",
              "        vertical-align: top;\n",
              "    }\n",
              "\n",
              "    .dataframe thead th {\n",
              "        text-align: right;\n",
              "    }\n",
              "</style>\n",
              "<table border=\"1\" class=\"dataframe\">\n",
              "  <thead>\n",
              "    <tr style=\"text-align: right;\">\n",
              "      <th></th>\n",
              "      <th>MONTH</th>\n",
              "      <th>OFFENSE_CODE_GROUP</th>\n",
              "      <th>counts</th>\n",
              "    </tr>\n",
              "  </thead>\n",
              "  <tbody>\n",
              "    <tr>\n",
              "      <th>0</th>\n",
              "      <td>1</td>\n",
              "      <td>Larceny</td>\n",
              "      <td>60</td>\n",
              "    </tr>\n",
              "    <tr>\n",
              "      <th>1</th>\n",
              "      <td>1</td>\n",
              "      <td>Drug Violation</td>\n",
              "      <td>56</td>\n",
              "    </tr>\n",
              "    <tr>\n",
              "      <th>2</th>\n",
              "      <td>1</td>\n",
              "      <td>Robbery</td>\n",
              "      <td>21</td>\n",
              "    </tr>\n",
              "    <tr>\n",
              "      <th>3</th>\n",
              "      <td>1</td>\n",
              "      <td>Auto Theft</td>\n",
              "      <td>19</td>\n",
              "    </tr>\n",
              "    <tr>\n",
              "      <th>4</th>\n",
              "      <td>2</td>\n",
              "      <td>Drug Violation</td>\n",
              "      <td>83</td>\n",
              "    </tr>\n",
              "  </tbody>\n",
              "</table>\n",
              "</div>"
            ],
            "text/plain": [
              "   MONTH OFFENSE_CODE_GROUP  counts\n",
              "0      1            Larceny      60\n",
              "1      1     Drug Violation      56\n",
              "2      1            Robbery      21\n",
              "3      1         Auto Theft      19\n",
              "4      2     Drug Violation      83"
            ]
          },
          "metadata": {
            "tags": []
          },
          "execution_count": 38
        }
      ]
    },
    {
      "cell_type": "code",
      "metadata": {
        "id": "3eNEuRsP8PCT",
        "outputId": "56507110-4f96-4cb8-c477-8ab62056842a"
      },
      "source": [
        "# Find the average per month\n",
        "serious_crime_per_month.groupby('MONTH')['counts'].mean()"
      ],
      "execution_count": null,
      "outputs": [
        {
          "output_type": "execute_result",
          "data": {
            "text/plain": [
              "MONTH\n",
              "1     39.00\n",
              "2     35.75\n",
              "3     40.50\n",
              "4     42.25\n",
              "5     46.50\n",
              "6     49.25\n",
              "7     36.50\n",
              "8     36.50\n",
              "9     36.75\n",
              "10    39.50\n",
              "11    37.50\n",
              "12    32.25\n",
              "Name: counts, dtype: float64"
            ]
          },
          "metadata": {
            "tags": []
          },
          "execution_count": 39
        }
      ]
    },
    {
      "cell_type": "code",
      "metadata": {
        "id": "v7-uwszK8PCi"
      },
      "source": [
        "\n",
        "Months = ['Jan','Feb','Mar','Apr','May','Jun','Jul','Aug','Sep','Oct','Nov','Dec']\n",
        "\n",
        "sns.catplot(x='MONTH',\n",
        "           kind='count',\n",
        "            height=8.27, \n",
        "            aspect=3,\n",
        "            color='red',\n",
        "           data=x_c11)\n",
        "plt.xticks(np.arange(12), Months, size=30)\n",
        "\n",
        "# plt.xticks(size=30)\n",
        "plt.yticks(size=30)\n",
        "plt.xlabel('Month', fontsize=40)\n",
        "plt.ylabel('Count', fontsize=40)"
      ],
      "execution_count": null,
      "outputs": []
    },
    {
      "cell_type": "code",
      "metadata": {
        "id": "f0cnlNkz8PCp"
      },
      "source": [
        "# Function to Get Average Serious Crime Per Month\n",
        "def get_average_serious_crime(district,year=2016):\n",
        "    serious_crimes = [\"Larceny\", \"Robbery\", \"Drug Violation\", \"Auto Theft\"]\n",
        "    district_df = df[(df['DISTRICT'] == district) & (df['YEAR'] == year)]\n",
        "    serious_crimes_df = district_df[district_df['OFFENSE_CODE_GROUP'].isin(serious_crimes)]\n",
        "    total_crime_per_month = pd.DataFrame(serious_crimes_df.groupby('MONTH')['OFFENSE_CODE_GROUP'].value_counts().to_frame('counts').reset_index())\n",
        "    avg_crime_per_month = total_crime_per_month.groupby('MONTH')['counts'].mean()\n",
        "    return avg_crime_per_month"
      ],
      "execution_count": null,
      "outputs": []
    },
    {
      "cell_type": "code",
      "metadata": {
        "id": "KUStaTrh8PCs",
        "outputId": "a3d0e2a8-c6ab-4db5-b3d7-b5324a00ded0"
      },
      "source": [
        "get_average_serious_crime('D4')"
      ],
      "execution_count": null,
      "outputs": [
        {
          "output_type": "execute_result",
          "data": {
            "text/plain": [
              "MONTH\n",
              "1     66.75\n",
              "2     60.25\n",
              "3     68.25\n",
              "4     58.25\n",
              "5     74.25\n",
              "6     75.25\n",
              "7     75.00\n",
              "8     73.00\n",
              "9     67.00\n",
              "10    70.75\n",
              "11    72.00\n",
              "12    62.75\n",
              "Name: counts, dtype: float64"
            ]
          },
          "metadata": {
            "tags": []
          },
          "execution_count": 41
        }
      ]
    },
    {
      "cell_type": "code",
      "metadata": {
        "id": "Xann5X5s8PC0"
      },
      "source": [
        "# Function to Get Average Serious Crime Per Month\n",
        "def plot_average_serious_crime(district,year=2016):\n",
        "    serious_crimes = [\"Larceny\", \"Robbery\", \"Drug Violation\", \"Auto Theft\"]\n",
        "    district_df = df[(df['DISTRICT'] == district) & (df['YEAR'] == year)]\n",
        "    serious_crimes_df = district_df[district_df['OFFENSE_CODE_GROUP'].isin(serious_crimes)]\n",
        "    total_crime_per_month = pd.DataFrame(serious_crimes_df.groupby('MONTH')['OFFENSE_CODE_GROUP'].value_counts().to_frame('counts').reset_index())\n",
        "    avg_crime_per_month = total_crime_per_month.groupby('MONTH')['counts'].mean()\n",
        "    return avg_crime_per_month.plot(kind='bar')"
      ],
      "execution_count": null,
      "outputs": []
    },
    {
      "cell_type": "code",
      "metadata": {
        "id": "j4J5ngdT8PC4",
        "outputId": "209cce5d-8dc8-47ee-8561-40e4d1feebde"
      },
      "source": [
        "plot_average_serious_crime('C11')"
      ],
      "execution_count": null,
      "outputs": [
        {
          "output_type": "execute_result",
          "data": {
            "text/plain": [
              "<matplotlib.axes._subplots.AxesSubplot at 0x7f548958ded0>"
            ]
          },
          "metadata": {
            "tags": []
          },
          "execution_count": 44
        },
        {
          "output_type": "display_data",
          "data": {
            "image/png": "[encoded data removed]",
            "text/plain": [
              "<Figure size 432x288 with 1 Axes>"
            ]
          },
          "metadata": {
            "tags": [],
            "needs_background": "light"
          }
        }
      ]
    },
    {
      "cell_type": "code",
      "metadata": {
        "id": "yPkqXNB58PC_"
      },
      "source": [
        "# Function to Get Average Serious Crime Per Month\n",
        "def sns_plot_average_serious_crime(district,year=2016):\n",
        "    serious_crimes = [\"Larceny\", \"Robbery\", \"Drug Violation\", \"Auto Theft\"]\n",
        "    district_df = df[(df['DISTRICT'] == district) & (df['YEAR'] == year)]\n",
        "    serious_crimes_df = district_df[district_df['OFFENSE_CODE_GROUP'].isin(serious_crimes)]\n",
        "    total_crime_per_month = pd.DataFrame(serious_crimes_df.groupby('MONTH')['OFFENSE_CODE_GROUP'].value_counts().to_frame('counts').reset_index())\n",
        "    avg_crime_per_month = total_crime_per_month.groupby('MONTH')['counts'].mean().to_frame('average').reset_index()\n",
        "    return sns.barplot(x='MONTH',y='average',data=avg_crime_per_month)"
      ],
      "execution_count": null,
      "outputs": []
    },
    {
      "cell_type": "code",
      "metadata": {
        "id": "Zbbd6lkF8PDC",
        "outputId": "f29a85a9-b686-4882-a8fc-e94cc9ebb784"
      },
      "source": [
        "sns_plot_average_serious_crime('C11')"
      ],
      "execution_count": null,
      "outputs": [
        {
          "output_type": "execute_result",
          "data": {
            "text/plain": [
              "<matplotlib.axes._subplots.AxesSubplot at 0x7f548961ff50>"
            ]
          },
          "metadata": {
            "tags": []
          },
          "execution_count": 48
        },
        {
          "output_type": "display_data",
          "data": {
            "image/png": "[encoded data removed]",
            "text/plain": [
              "<Figure size 432x288 with 1 Axes>"
            ]
          },
          "metadata": {
            "tags": [],
            "needs_background": "light"
          }
        }
      ]
    },
    {
      "cell_type": "code",
      "metadata": {
        "collapsed": true,
        "jupyter": {
          "outputs_hidden": true
        },
        "id": "5itroEJO8PDG",
        "outputId": "f36f66db-e3cc-463c-f192-05eea5f97739"
      },
      "source": [
        "df[(df['OFFENSE_CODE_GROUP'].isin(serious_crimes)) & (df['YEAR'].isin([2016,2017]))]"
      ],
      "execution_count": null,
      "outputs": [
        {
          "output_type": "execute_result",
          "data": {
            "text/html": [
              "<div>\n",
              "<style scoped>\n",
              "    .dataframe tbody tr th:only-of-type {\n",
              "        vertical-align: middle;\n",
              "    }\n",
              "\n",
              "    .dataframe tbody tr th {\n",
              "        vertical-align: top;\n",
              "    }\n",
              "\n",
              "    .dataframe thead th {\n",
              "        text-align: right;\n",
              "    }\n",
              "</style>\n",
              "<table border=\"1\" class=\"dataframe\">\n",
              "  <thead>\n",
              "    <tr style=\"text-align: right;\">\n",
              "      <th></th>\n",
              "      <th>INCIDENT_NUMBER</th>\n",
              "      <th>OFFENSE_CODE</th>\n",
              "      <th>OFFENSE_CODE_GROUP</th>\n",
              "      <th>OFFENSE_DESCRIPTION</th>\n",
              "      <th>DISTRICT</th>\n",
              "      <th>REPORTING_AREA</th>\n",
              "      <th>SHOOTING</th>\n",
              "      <th>OCCURRED_ON_DATE</th>\n",
              "      <th>YEAR</th>\n",
              "      <th>MONTH</th>\n",
              "      <th>DAY_OF_WEEK</th>\n",
              "      <th>HOUR</th>\n",
              "      <th>UCR_PART</th>\n",
              "      <th>STREET</th>\n",
              "      <th>Lat</th>\n",
              "      <th>Long</th>\n",
              "      <th>Location</th>\n",
              "    </tr>\n",
              "  </thead>\n",
              "  <tbody>\n",
              "    <tr>\n",
              "      <th>5633</th>\n",
              "      <td>I182064766</td>\n",
              "      <td>617</td>\n",
              "      <td>Larceny</td>\n",
              "      <td>LARCENY THEFT FROM BUILDING</td>\n",
              "      <td>E5</td>\n",
              "      <td>729</td>\n",
              "      <td>NaN</td>\n",
              "      <td>2017-10-23 13:58:00</td>\n",
              "      <td>2017</td>\n",
              "      <td>10</td>\n",
              "      <td>Monday</td>\n",
              "      <td>13</td>\n",
              "      <td>Part One</td>\n",
              "      <td>VFW PKWY</td>\n",
              "      <td>42.285370</td>\n",
              "      <td>-71.172440</td>\n",
              "      <td>(42.28536992, -71.17244016)</td>\n",
              "    </tr>\n",
              "    <tr>\n",
              "      <th>5919</th>\n",
              "      <td>I182064449</td>\n",
              "      <td>706</td>\n",
              "      <td>Auto Theft</td>\n",
              "      <td>AUTO THEFT - MOTORCYCLE / SCOOTER</td>\n",
              "      <td>E18</td>\n",
              "      <td>544</td>\n",
              "      <td>NaN</td>\n",
              "      <td>2017-03-22 09:00:00</td>\n",
              "      <td>2017</td>\n",
              "      <td>3</td>\n",
              "      <td>Wednesday</td>\n",
              "      <td>9</td>\n",
              "      <td>Part One</td>\n",
              "      <td>AUSTIN ST</td>\n",
              "      <td>42.257688</td>\n",
              "      <td>-71.126418</td>\n",
              "      <td>(42.25768764, -71.12641770)</td>\n",
              "    </tr>\n",
              "    <tr>\n",
              "      <th>14227</th>\n",
              "      <td>I182055406</td>\n",
              "      <td>617</td>\n",
              "      <td>Larceny</td>\n",
              "      <td>LARCENY THEFT FROM BUILDING</td>\n",
              "      <td>D4</td>\n",
              "      <td>136</td>\n",
              "      <td>NaN</td>\n",
              "      <td>2017-12-15 16:06:00</td>\n",
              "      <td>2017</td>\n",
              "      <td>12</td>\n",
              "      <td>Friday</td>\n",
              "      <td>16</td>\n",
              "      <td>Part One</td>\n",
              "      <td>MARLBOROUGH ST</td>\n",
              "      <td>42.352569</td>\n",
              "      <td>-71.079788</td>\n",
              "      <td>(42.35256908, -71.07978844)</td>\n",
              "    </tr>\n",
              "    <tr>\n",
              "      <th>15036</th>\n",
              "      <td>I182054544</td>\n",
              "      <td>619</td>\n",
              "      <td>Larceny</td>\n",
              "      <td>LARCENY ALL OTHERS</td>\n",
              "      <td>NaN</td>\n",
              "      <td></td>\n",
              "      <td>NaN</td>\n",
              "      <td>2017-01-01 12:00:00</td>\n",
              "      <td>2017</td>\n",
              "      <td>1</td>\n",
              "      <td>Sunday</td>\n",
              "      <td>12</td>\n",
              "      <td>Part One</td>\n",
              "      <td>MORTON</td>\n",
              "      <td>-1.000000</td>\n",
              "      <td>-1.000000</td>\n",
              "      <td>(-1.00000000, -1.00000000)</td>\n",
              "    </tr>\n",
              "    <tr>\n",
              "      <th>16568</th>\n",
              "      <td>I182052929</td>\n",
              "      <td>619</td>\n",
              "      <td>Larceny</td>\n",
              "      <td>LARCENY ALL OTHERS</td>\n",
              "      <td>A1</td>\n",
              "      <td>63</td>\n",
              "      <td>NaN</td>\n",
              "      <td>2017-08-13 21:00:00</td>\n",
              "      <td>2017</td>\n",
              "      <td>8</td>\n",
              "      <td>Sunday</td>\n",
              "      <td>21</td>\n",
              "      <td>Part One</td>\n",
              "      <td>NEW SUDBURY ST</td>\n",
              "      <td>42.361839</td>\n",
              "      <td>-71.059765</td>\n",
              "      <td>(42.36183857, -71.05976489)</td>\n",
              "    </tr>\n",
              "    <tr>\n",
              "      <th>...</th>\n",
              "      <td>...</td>\n",
              "      <td>...</td>\n",
              "      <td>...</td>\n",
              "      <td>...</td>\n",
              "      <td>...</td>\n",
              "      <td>...</td>\n",
              "      <td>...</td>\n",
              "      <td>...</td>\n",
              "      <td>...</td>\n",
              "      <td>...</td>\n",
              "      <td>...</td>\n",
              "      <td>...</td>\n",
              "      <td>...</td>\n",
              "      <td>...</td>\n",
              "      <td>...</td>\n",
              "      <td>...</td>\n",
              "      <td>...</td>\n",
              "    </tr>\n",
              "    <tr>\n",
              "      <th>319024</th>\n",
              "      <td>I120470733-00</td>\n",
              "      <td>724</td>\n",
              "      <td>Auto Theft</td>\n",
              "      <td>AUTO THEFT</td>\n",
              "      <td>C6</td>\n",
              "      <td>205</td>\n",
              "      <td>NaN</td>\n",
              "      <td>2016-09-23 19:15:00</td>\n",
              "      <td>2016</td>\n",
              "      <td>9</td>\n",
              "      <td>Friday</td>\n",
              "      <td>19</td>\n",
              "      <td>Part One</td>\n",
              "      <td>A ST</td>\n",
              "      <td>42.346953</td>\n",
              "      <td>-71.051127</td>\n",
              "      <td>(42.34695268, -71.05112684)</td>\n",
              "    </tr>\n",
              "    <tr>\n",
              "      <th>319026</th>\n",
              "      <td>I120283195-00</td>\n",
              "      <td>619</td>\n",
              "      <td>Larceny</td>\n",
              "      <td>LARCENY ALL OTHERS</td>\n",
              "      <td>B2</td>\n",
              "      <td>911</td>\n",
              "      <td>NaN</td>\n",
              "      <td>2016-04-27 00:00:00</td>\n",
              "      <td>2016</td>\n",
              "      <td>4</td>\n",
              "      <td>Wednesday</td>\n",
              "      <td>0</td>\n",
              "      <td>Part One</td>\n",
              "      <td>ANNUNCIATION RD</td>\n",
              "      <td>42.335062</td>\n",
              "      <td>-71.093168</td>\n",
              "      <td>(42.33506218, -71.09316781)</td>\n",
              "    </tr>\n",
              "    <tr>\n",
              "      <th>319031</th>\n",
              "      <td>I120201612-00</td>\n",
              "      <td>1841</td>\n",
              "      <td>Drug Violation</td>\n",
              "      <td>DRUGS - POSS CLASS A - INTENT TO MFR DIST DISP</td>\n",
              "      <td>B2</td>\n",
              "      <td>292</td>\n",
              "      <td>NaN</td>\n",
              "      <td>2017-01-20 02:00:00</td>\n",
              "      <td>2017</td>\n",
              "      <td>1</td>\n",
              "      <td>Friday</td>\n",
              "      <td>2</td>\n",
              "      <td>Part Two</td>\n",
              "      <td>JOHN ELIOT SQ</td>\n",
              "      <td>42.330013</td>\n",
              "      <td>-71.091179</td>\n",
              "      <td>(42.33001318, -71.09117863)</td>\n",
              "    </tr>\n",
              "    <tr>\n",
              "      <th>319048</th>\n",
              "      <td>I110261417-00</td>\n",
              "      <td>619</td>\n",
              "      <td>Larceny</td>\n",
              "      <td>LARCENY OTHER $200 &amp; OVER</td>\n",
              "      <td>B2</td>\n",
              "      <td>324</td>\n",
              "      <td>NaN</td>\n",
              "      <td>2016-07-29 00:00:00</td>\n",
              "      <td>2016</td>\n",
              "      <td>7</td>\n",
              "      <td>Friday</td>\n",
              "      <td>0</td>\n",
              "      <td>Part One</td>\n",
              "      <td>BOWDOIN ST</td>\n",
              "      <td>42.307038</td>\n",
              "      <td>-71.066153</td>\n",
              "      <td>(42.30703835, -71.06615319)</td>\n",
              "    </tr>\n",
              "    <tr>\n",
              "      <th>319052</th>\n",
              "      <td>I100636670-00</td>\n",
              "      <td>629</td>\n",
              "      <td>Larceny</td>\n",
              "      <td>LARCENY OTHER $50 TO $199</td>\n",
              "      <td>D4</td>\n",
              "      <td>285</td>\n",
              "      <td>NaN</td>\n",
              "      <td>2016-06-05 17:23:00</td>\n",
              "      <td>2016</td>\n",
              "      <td>6</td>\n",
              "      <td>Sunday</td>\n",
              "      <td>17</td>\n",
              "      <td>Part One</td>\n",
              "      <td>COVENTRY ST</td>\n",
              "      <td>42.336951</td>\n",
              "      <td>-71.085748</td>\n",
              "      <td>(42.33695098, -71.08574813)</td>\n",
              "    </tr>\n",
              "  </tbody>\n",
              "</table>\n",
              "<p>31564 rows × 17 columns</p>\n",
              "</div>"
            ],
            "text/plain": [
              "       INCIDENT_NUMBER  OFFENSE_CODE OFFENSE_CODE_GROUP  \\\n",
              "5633        I182064766           617            Larceny   \n",
              "5919        I182064449           706         Auto Theft   \n",
              "14227       I182055406           617            Larceny   \n",
              "15036       I182054544           619            Larceny   \n",
              "16568       I182052929           619            Larceny   \n",
              "...                ...           ...                ...   \n",
              "319024   I120470733-00           724         Auto Theft   \n",
              "319026   I120283195-00           619            Larceny   \n",
              "319031   I120201612-00          1841     Drug Violation   \n",
              "319048   I110261417-00           619            Larceny   \n",
              "319052   I100636670-00           629            Larceny   \n",
              "\n",
              "                                   OFFENSE_DESCRIPTION DISTRICT  \\\n",
              "5633                       LARCENY THEFT FROM BUILDING       E5   \n",
              "5919                 AUTO THEFT - MOTORCYCLE / SCOOTER      E18   \n",
              "14227                      LARCENY THEFT FROM BUILDING       D4   \n",
              "15036                               LARCENY ALL OTHERS      NaN   \n",
              "16568                               LARCENY ALL OTHERS       A1   \n",
              "...                                                ...      ...   \n",
              "319024                                      AUTO THEFT       C6   \n",
              "319026                              LARCENY ALL OTHERS       B2   \n",
              "319031  DRUGS - POSS CLASS A - INTENT TO MFR DIST DISP       B2   \n",
              "319048                       LARCENY OTHER $200 & OVER       B2   \n",
              "319052                       LARCENY OTHER $50 TO $199       D4   \n",
              "\n",
              "       REPORTING_AREA SHOOTING     OCCURRED_ON_DATE  YEAR  MONTH DAY_OF_WEEK  \\\n",
              "5633              729      NaN  2017-10-23 13:58:00  2017     10      Monday   \n",
              "5919              544      NaN  2017-03-22 09:00:00  2017      3   Wednesday   \n",
              "14227             136      NaN  2017-12-15 16:06:00  2017     12      Friday   \n",
              "15036                      NaN  2017-01-01 12:00:00  2017      1      Sunday   \n",
              "16568              63      NaN  2017-08-13 21:00:00  2017      8      Sunday   \n",
              "...               ...      ...                  ...   ...    ...         ...   \n",
              "319024            205      NaN  2016-09-23 19:15:00  2016      9      Friday   \n",
              "319026            911      NaN  2016-04-27 00:00:00  2016      4   Wednesday   \n",
              "319031            292      NaN  2017-01-20 02:00:00  2017      1      Friday   \n",
              "319048            324      NaN  2016-07-29 00:00:00  2016      7      Friday   \n",
              "319052            285      NaN  2016-06-05 17:23:00  2016      6      Sunday   \n",
              "\n",
              "        HOUR  UCR_PART           STREET        Lat       Long  \\\n",
              "5633      13  Part One         VFW PKWY  42.285370 -71.172440   \n",
              "5919       9  Part One        AUSTIN ST  42.257688 -71.126418   \n",
              "14227     16  Part One   MARLBOROUGH ST  42.352569 -71.079788   \n",
              "15036     12  Part One           MORTON  -1.000000  -1.000000   \n",
              "16568     21  Part One   NEW SUDBURY ST  42.361839 -71.059765   \n",
              "...      ...       ...              ...        ...        ...   \n",
              "319024    19  Part One             A ST  42.346953 -71.051127   \n",
              "319026     0  Part One  ANNUNCIATION RD  42.335062 -71.093168   \n",
              "319031     2  Part Two    JOHN ELIOT SQ  42.330013 -71.091179   \n",
              "319048     0  Part One       BOWDOIN ST  42.307038 -71.066153   \n",
              "319052    17  Part One      COVENTRY ST  42.336951 -71.085748   \n",
              "\n",
              "                           Location  \n",
              "5633    (42.28536992, -71.17244016)  \n",
              "5919    (42.25768764, -71.12641770)  \n",
              "14227   (42.35256908, -71.07978844)  \n",
              "15036    (-1.00000000, -1.00000000)  \n",
              "16568   (42.36183857, -71.05976489)  \n",
              "...                             ...  \n",
              "319024  (42.34695268, -71.05112684)  \n",
              "319026  (42.33506218, -71.09316781)  \n",
              "319031  (42.33001318, -71.09117863)  \n",
              "319048  (42.30703835, -71.06615319)  \n",
              "319052  (42.33695098, -71.08574813)  \n",
              "\n",
              "[31564 rows x 17 columns]"
            ]
          },
          "metadata": {
            "tags": []
          },
          "execution_count": 78
        }
      ]
    },
    {
      "cell_type": "code",
      "metadata": {
        "id": "Mn6Phttk8PDJ"
      },
      "source": [
        "serious_per_2_years = df[(df['OFFENSE_CODE_GROUP'].isin(serious_crimes)) & (df['YEAR'].isin([2016,2017]))]"
      ],
      "execution_count": null,
      "outputs": []
    },
    {
      "cell_type": "code",
      "metadata": {
        "id": "0CX2YhYk8PDN",
        "outputId": "5ec606f6-b89b-4cf6-de09-25b5f483b88a"
      },
      "source": [
        "serious_per_2_years.columns"
      ],
      "execution_count": null,
      "outputs": [
        {
          "output_type": "execute_result",
          "data": {
            "text/plain": [
              "Index(['INCIDENT_NUMBER', 'OFFENSE_CODE', 'OFFENSE_CODE_GROUP',\n",
              "       'OFFENSE_DESCRIPTION', 'DISTRICT', 'REPORTING_AREA', 'SHOOTING',\n",
              "       'OCCURRED_ON_DATE', 'YEAR', 'MONTH', 'DAY_OF_WEEK', 'HOUR', 'UCR_PART',\n",
              "       'STREET', 'Lat', 'Long', 'Location'],\n",
              "      dtype='object')"
            ]
          },
          "metadata": {
            "tags": []
          },
          "execution_count": 80
        }
      ]
    },
    {
      "cell_type": "code",
      "metadata": {
        "id": "jgmqOwgU8PDT"
      },
      "source": [
        "serious_crime_4_2_years = serious_per_2_years[['OFFENSE_CODE_GROUP','DISTRICT','YEAR', 'MONTH', 'DAY_OF_WEEK', 'HOUR','Location']]"
      ],
      "execution_count": null,
      "outputs": []
    },
    {
      "cell_type": "code",
      "metadata": {
        "id": "TYV0N_0D8PDf"
      },
      "source": [
        "# Save For App\n",
        "serious_crime_4_2_years.to_csv(\"serious_crime_for_2016_n_2017_crime_data.csv\",index=False)"
      ],
      "execution_count": null,
      "outputs": []
    },
    {
      "cell_type": "code",
      "metadata": {
        "id": "Dg0mrWqo8PDw"
      },
      "source": [
        "### Task 1: Crimes Per Hour and Location"
      ],
      "execution_count": null,
      "outputs": []
    },
    {
      "cell_type": "code",
      "metadata": {
        "id": "VBV0TK748PD4",
        "outputId": "d89ecf39-fa15-47d9-8c83-0dabf9014a61"
      },
      "source": [
        "# Group By Hour\n",
        "df.columns"
      ],
      "execution_count": null,
      "outputs": [
        {
          "output_type": "execute_result",
          "data": {
            "text/plain": [
              "Index(['INCIDENT_NUMBER', 'OFFENSE_CODE', 'OFFENSE_CODE_GROUP',\n",
              "       'OFFENSE_DESCRIPTION', 'DISTRICT', 'REPORTING_AREA', 'SHOOTING',\n",
              "       'OCCURRED_ON_DATE', 'YEAR', 'MONTH', 'DAY_OF_WEEK', 'HOUR', 'UCR_PART',\n",
              "       'STREET', 'Lat', 'Long', 'Location'],\n",
              "      dtype='object')"
            ]
          },
          "metadata": {
            "tags": []
          },
          "execution_count": 50
        }
      ]
    },
    {
      "cell_type": "code",
      "metadata": {
        "id": "vXdNNkH-8PEA",
        "outputId": "29d17c9b-b0ec-45dc-8d34-ad02693a00e3"
      },
      "source": [
        "df.groupby('HOUR')['Location'].value_counts()"
      ],
      "execution_count": null,
      "outputs": [
        {
          "output_type": "execute_result",
          "data": {
            "text/plain": [
              "HOUR  Location                   \n",
              "0     (0.00000000, 0.00000000)       879\n",
              "      (42.36183857, -71.05976489)     88\n",
              "      (-1.00000000, -1.00000000)      65\n",
              "      (42.30971857, -71.10429432)     49\n",
              "      (42.34942864, -71.06536641)     46\n",
              "                                    ... \n",
              "23    (42.39112008, -71.00229699)      1\n",
              "      (42.39248647, -71.00535725)      1\n",
              "      (42.39274002, -71.00479067)      1\n",
              "      (42.39348242, -71.01068177)      1\n",
              "      (42.39504158, -71.01017732)      1\n",
              "Name: Location, Length: 125319, dtype: int64"
            ]
          },
          "metadata": {
            "tags": []
          },
          "execution_count": 51
        }
      ]
    },
    {
      "cell_type": "code",
      "metadata": {
        "id": "Rv_IV3pn8PEE"
      },
      "source": [
        "crime_per_hour = df.groupby('HOUR')['Location'].value_counts().to_frame('counts').reset_index()"
      ],
      "execution_count": null,
      "outputs": []
    },
    {
      "cell_type": "code",
      "metadata": {
        "id": "Vkkt84NM8PEJ",
        "outputId": "37f29853-6b2b-4d6d-dde1-f0e24f3bfeb1"
      },
      "source": [
        "crime_per_hour.head()"
      ],
      "execution_count": null,
      "outputs": [
        {
          "output_type": "execute_result",
          "data": {
            "text/html": [
              "<div>\n",
              "<style scoped>\n",
              "    .dataframe tbody tr th:only-of-type {\n",
              "        vertical-align: middle;\n",
              "    }\n",
              "\n",
              "    .dataframe tbody tr th {\n",
              "        vertical-align: top;\n",
              "    }\n",
              "\n",
              "    .dataframe thead th {\n",
              "        text-align: right;\n",
              "    }\n",
              "</style>\n",
              "<table border=\"1\" class=\"dataframe\">\n",
              "  <thead>\n",
              "    <tr style=\"text-align: right;\">\n",
              "      <th></th>\n",
              "      <th>HOUR</th>\n",
              "      <th>Location</th>\n",
              "      <th>counts</th>\n",
              "    </tr>\n",
              "  </thead>\n",
              "  <tbody>\n",
              "    <tr>\n",
              "      <th>0</th>\n",
              "      <td>0</td>\n",
              "      <td>(0.00000000, 0.00000000)</td>\n",
              "      <td>879</td>\n",
              "    </tr>\n",
              "    <tr>\n",
              "      <th>1</th>\n",
              "      <td>0</td>\n",
              "      <td>(42.36183857, -71.05976489)</td>\n",
              "      <td>88</td>\n",
              "    </tr>\n",
              "    <tr>\n",
              "      <th>2</th>\n",
              "      <td>0</td>\n",
              "      <td>(-1.00000000, -1.00000000)</td>\n",
              "      <td>65</td>\n",
              "    </tr>\n",
              "    <tr>\n",
              "      <th>3</th>\n",
              "      <td>0</td>\n",
              "      <td>(42.30971857, -71.10429432)</td>\n",
              "      <td>49</td>\n",
              "    </tr>\n",
              "    <tr>\n",
              "      <th>4</th>\n",
              "      <td>0</td>\n",
              "      <td>(42.34942864, -71.06536641)</td>\n",
              "      <td>46</td>\n",
              "    </tr>\n",
              "  </tbody>\n",
              "</table>\n",
              "</div>"
            ],
            "text/plain": [
              "   HOUR                     Location  counts\n",
              "0     0     (0.00000000, 0.00000000)     879\n",
              "1     0  (42.36183857, -71.05976489)      88\n",
              "2     0   (-1.00000000, -1.00000000)      65\n",
              "3     0  (42.30971857, -71.10429432)      49\n",
              "4     0  (42.34942864, -71.06536641)      46"
            ]
          },
          "metadata": {
            "tags": []
          },
          "execution_count": 53
        }
      ]
    },
    {
      "cell_type": "code",
      "metadata": {
        "id": "HvQrCXtR8PEM",
        "outputId": "648793dc-e944-4d58-938e-de9f633c9d62"
      },
      "source": [
        "sns.scatterplot(data=crime_per_hour,x='HOUR',y='counts')"
      ],
      "execution_count": null,
      "outputs": [
        {
          "output_type": "execute_result",
          "data": {
            "text/plain": [
              "<matplotlib.axes._subplots.AxesSubplot at 0x7f54898e5ed0>"
            ]
          },
          "metadata": {
            "tags": []
          },
          "execution_count": 55
        },
        {
          "output_type": "display_data",
          "data": {
            "image/png": "[encoded data removed]",
            "text/plain": [
              "<Figure size 432x288 with 1 Axes>"
            ]
          },
          "metadata": {
            "tags": [],
            "needs_background": "light"
          }
        }
      ]
    },
    {
      "cell_type": "code",
      "metadata": {
        "id": "OFo0-s6N8PEO",
        "outputId": "bc3211af-d71e-49b4-aee2-af3eeaab12f6"
      },
      "source": [
        "# Prep For Pydeck\n",
        "crime_per_hour['Location'].str.replace('(','[').str.replace(')',']')"
      ],
      "execution_count": null,
      "outputs": [
        {
          "output_type": "execute_result",
          "data": {
            "text/plain": [
              "0            [0.00000000, 0.00000000]\n",
              "1         [42.36183857, -71.05976489]\n",
              "2          [-1.00000000, -1.00000000]\n",
              "3         [42.30971857, -71.10429432]\n",
              "4         [42.34942864, -71.06536641]\n",
              "                     ...             \n",
              "125314    [42.39112008, -71.00229699]\n",
              "125315    [42.39248647, -71.00535725]\n",
              "125316    [42.39274002, -71.00479067]\n",
              "125317    [42.39348242, -71.01068177]\n",
              "125318    [42.39504158, -71.01017732]\n",
              "Name: Location, Length: 125319, dtype: object"
            ]
          },
          "metadata": {
            "tags": []
          },
          "execution_count": 56
        }
      ]
    },
    {
      "cell_type": "code",
      "metadata": {
        "id": "XylbiBIz8PEa"
      },
      "source": [
        "crime_per_hour['Location2'] = crime_per_hour['Location'].str.replace('(','[').str.replace(')',']')"
      ],
      "execution_count": null,
      "outputs": []
    },
    {
      "cell_type": "code",
      "metadata": {
        "id": "DX0dcKbr8PEe",
        "outputId": "bc5a7218-44cd-4f55-c2f8-ffc08e5a74d5"
      },
      "source": [
        "crime_per_hour.head()"
      ],
      "execution_count": null,
      "outputs": [
        {
          "output_type": "execute_result",
          "data": {
            "text/html": [
              "<div>\n",
              "<style scoped>\n",
              "    .dataframe tbody tr th:only-of-type {\n",
              "        vertical-align: middle;\n",
              "    }\n",
              "\n",
              "    .dataframe tbody tr th {\n",
              "        vertical-align: top;\n",
              "    }\n",
              "\n",
              "    .dataframe thead th {\n",
              "        text-align: right;\n",
              "    }\n",
              "</style>\n",
              "<table border=\"1\" class=\"dataframe\">\n",
              "  <thead>\n",
              "    <tr style=\"text-align: right;\">\n",
              "      <th></th>\n",
              "      <th>HOUR</th>\n",
              "      <th>Location</th>\n",
              "      <th>counts</th>\n",
              "      <th>Location2</th>\n",
              "    </tr>\n",
              "  </thead>\n",
              "  <tbody>\n",
              "    <tr>\n",
              "      <th>0</th>\n",
              "      <td>0</td>\n",
              "      <td>(0.00000000, 0.00000000)</td>\n",
              "      <td>879</td>\n",
              "      <td>[0.00000000, 0.00000000]</td>\n",
              "    </tr>\n",
              "    <tr>\n",
              "      <th>1</th>\n",
              "      <td>0</td>\n",
              "      <td>(42.36183857, -71.05976489)</td>\n",
              "      <td>88</td>\n",
              "      <td>[42.36183857, -71.05976489]</td>\n",
              "    </tr>\n",
              "    <tr>\n",
              "      <th>2</th>\n",
              "      <td>0</td>\n",
              "      <td>(-1.00000000, -1.00000000)</td>\n",
              "      <td>65</td>\n",
              "      <td>[-1.00000000, -1.00000000]</td>\n",
              "    </tr>\n",
              "    <tr>\n",
              "      <th>3</th>\n",
              "      <td>0</td>\n",
              "      <td>(42.30971857, -71.10429432)</td>\n",
              "      <td>49</td>\n",
              "      <td>[42.30971857, -71.10429432]</td>\n",
              "    </tr>\n",
              "    <tr>\n",
              "      <th>4</th>\n",
              "      <td>0</td>\n",
              "      <td>(42.34942864, -71.06536641)</td>\n",
              "      <td>46</td>\n",
              "      <td>[42.34942864, -71.06536641]</td>\n",
              "    </tr>\n",
              "  </tbody>\n",
              "</table>\n",
              "</div>"
            ],
            "text/plain": [
              "   HOUR                     Location  counts                    Location2\n",
              "0     0     (0.00000000, 0.00000000)     879     [0.00000000, 0.00000000]\n",
              "1     0  (42.36183857, -71.05976489)      88  [42.36183857, -71.05976489]\n",
              "2     0   (-1.00000000, -1.00000000)      65   [-1.00000000, -1.00000000]\n",
              "3     0  (42.30971857, -71.10429432)      49  [42.30971857, -71.10429432]\n",
              "4     0  (42.34942864, -71.06536641)      46  [42.34942864, -71.06536641]"
            ]
          },
          "metadata": {
            "tags": []
          },
          "execution_count": 84
        }
      ]
    },
    {
      "cell_type": "code",
      "metadata": {
        "collapsed": true,
        "jupyter": {
          "outputs_hidden": true
        },
        "id": "RJBF4yA-8PEk",
        "outputId": "52514285-c433-4be1-b89e-c657af973ec5"
      },
      "source": [
        "# Clean and Unpack into 2 Columns\n",
        "crime_per_hour['Location2'].str.split(',').str.get(0).str.replace('[','')"
      ],
      "execution_count": null,
      "outputs": [
        {
          "output_type": "execute_result",
          "data": {
            "text/plain": [
              "0          0.00000000\n",
              "1         42.36183857\n",
              "2         -1.00000000\n",
              "3         42.30971857\n",
              "4         42.34942864\n",
              "             ...     \n",
              "125314    42.39112008\n",
              "125315    42.39248647\n",
              "125316    42.39274002\n",
              "125317    42.39348242\n",
              "125318    42.39504158\n",
              "Name: Location2, Length: 125319, dtype: object"
            ]
          },
          "metadata": {
            "tags": []
          },
          "execution_count": 89
        }
      ]
    },
    {
      "cell_type": "code",
      "metadata": {
        "id": "BL_NQaFd8PEo"
      },
      "source": [
        "# Clean and Unpack (Long Method)\n",
        "crime_per_hour['Lat'] = crime_per_hour['Location2'].str.split(',').str.get(0).str.replace('[','')\n",
        "crime_per_hour['Long'] = crime_per_hour['Location2'].str.split(',').str.get(1).str.replace(']','')"
      ],
      "execution_count": null,
      "outputs": []
    },
    {
      "cell_type": "code",
      "metadata": {
        "id": "1SsQ5_VQ8PEu",
        "outputId": "7ce84c08-d14a-415d-92a6-bba0f11ab0fd"
      },
      "source": [
        "crime_per_hour"
      ],
      "execution_count": null,
      "outputs": [
        {
          "output_type": "execute_result",
          "data": {
            "text/html": [
              "<div>\n",
              "<style scoped>\n",
              "    .dataframe tbody tr th:only-of-type {\n",
              "        vertical-align: middle;\n",
              "    }\n",
              "\n",
              "    .dataframe tbody tr th {\n",
              "        vertical-align: top;\n",
              "    }\n",
              "\n",
              "    .dataframe thead th {\n",
              "        text-align: right;\n",
              "    }\n",
              "</style>\n",
              "<table border=\"1\" class=\"dataframe\">\n",
              "  <thead>\n",
              "    <tr style=\"text-align: right;\">\n",
              "      <th></th>\n",
              "      <th>HOUR</th>\n",
              "      <th>Location</th>\n",
              "      <th>counts</th>\n",
              "      <th>Location2</th>\n",
              "      <th>Lat</th>\n",
              "      <th>Long</th>\n",
              "    </tr>\n",
              "  </thead>\n",
              "  <tbody>\n",
              "    <tr>\n",
              "      <th>0</th>\n",
              "      <td>0</td>\n",
              "      <td>(0.00000000, 0.00000000)</td>\n",
              "      <td>879</td>\n",
              "      <td>[0.00000000, 0.00000000]</td>\n",
              "      <td>0.00000000</td>\n",
              "      <td>0.00000000</td>\n",
              "    </tr>\n",
              "    <tr>\n",
              "      <th>1</th>\n",
              "      <td>0</td>\n",
              "      <td>(42.36183857, -71.05976489)</td>\n",
              "      <td>88</td>\n",
              "      <td>[42.36183857, -71.05976489]</td>\n",
              "      <td>42.36183857</td>\n",
              "      <td>-71.05976489</td>\n",
              "    </tr>\n",
              "    <tr>\n",
              "      <th>2</th>\n",
              "      <td>0</td>\n",
              "      <td>(-1.00000000, -1.00000000)</td>\n",
              "      <td>65</td>\n",
              "      <td>[-1.00000000, -1.00000000]</td>\n",
              "      <td>-1.00000000</td>\n",
              "      <td>-1.00000000</td>\n",
              "    </tr>\n",
              "    <tr>\n",
              "      <th>3</th>\n",
              "      <td>0</td>\n",
              "      <td>(42.30971857, -71.10429432)</td>\n",
              "      <td>49</td>\n",
              "      <td>[42.30971857, -71.10429432]</td>\n",
              "      <td>42.30971857</td>\n",
              "      <td>-71.10429432</td>\n",
              "    </tr>\n",
              "    <tr>\n",
              "      <th>4</th>\n",
              "      <td>0</td>\n",
              "      <td>(42.34942864, -71.06536641)</td>\n",
              "      <td>46</td>\n",
              "      <td>[42.34942864, -71.06536641]</td>\n",
              "      <td>42.34942864</td>\n",
              "      <td>-71.06536641</td>\n",
              "    </tr>\n",
              "    <tr>\n",
              "      <th>...</th>\n",
              "      <td>...</td>\n",
              "      <td>...</td>\n",
              "      <td>...</td>\n",
              "      <td>...</td>\n",
              "      <td>...</td>\n",
              "      <td>...</td>\n",
              "    </tr>\n",
              "    <tr>\n",
              "      <th>125314</th>\n",
              "      <td>23</td>\n",
              "      <td>(42.39112008, -71.00229699)</td>\n",
              "      <td>1</td>\n",
              "      <td>[42.39112008, -71.00229699]</td>\n",
              "      <td>42.39112008</td>\n",
              "      <td>-71.00229699</td>\n",
              "    </tr>\n",
              "    <tr>\n",
              "      <th>125315</th>\n",
              "      <td>23</td>\n",
              "      <td>(42.39248647, -71.00535725)</td>\n",
              "      <td>1</td>\n",
              "      <td>[42.39248647, -71.00535725]</td>\n",
              "      <td>42.39248647</td>\n",
              "      <td>-71.00535725</td>\n",
              "    </tr>\n",
              "    <tr>\n",
              "      <th>125316</th>\n",
              "      <td>23</td>\n",
              "      <td>(42.39274002, -71.00479067)</td>\n",
              "      <td>1</td>\n",
              "      <td>[42.39274002, -71.00479067]</td>\n",
              "      <td>42.39274002</td>\n",
              "      <td>-71.00479067</td>\n",
              "    </tr>\n",
              "    <tr>\n",
              "      <th>125317</th>\n",
              "      <td>23</td>\n",
              "      <td>(42.39348242, -71.01068177)</td>\n",
              "      <td>1</td>\n",
              "      <td>[42.39348242, -71.01068177]</td>\n",
              "      <td>42.39348242</td>\n",
              "      <td>-71.01068177</td>\n",
              "    </tr>\n",
              "    <tr>\n",
              "      <th>125318</th>\n",
              "      <td>23</td>\n",
              "      <td>(42.39504158, -71.01017732)</td>\n",
              "      <td>1</td>\n",
              "      <td>[42.39504158, -71.01017732]</td>\n",
              "      <td>42.39504158</td>\n",
              "      <td>-71.01017732</td>\n",
              "    </tr>\n",
              "  </tbody>\n",
              "</table>\n",
              "<p>125319 rows × 6 columns</p>\n",
              "</div>"
            ],
            "text/plain": [
              "        HOUR                     Location  counts  \\\n",
              "0          0     (0.00000000, 0.00000000)     879   \n",
              "1          0  (42.36183857, -71.05976489)      88   \n",
              "2          0   (-1.00000000, -1.00000000)      65   \n",
              "3          0  (42.30971857, -71.10429432)      49   \n",
              "4          0  (42.34942864, -71.06536641)      46   \n",
              "...      ...                          ...     ...   \n",
              "125314    23  (42.39112008, -71.00229699)       1   \n",
              "125315    23  (42.39248647, -71.00535725)       1   \n",
              "125316    23  (42.39274002, -71.00479067)       1   \n",
              "125317    23  (42.39348242, -71.01068177)       1   \n",
              "125318    23  (42.39504158, -71.01017732)       1   \n",
              "\n",
              "                          Location2          Lat           Long  \n",
              "0          [0.00000000, 0.00000000]   0.00000000     0.00000000  \n",
              "1       [42.36183857, -71.05976489]  42.36183857   -71.05976489  \n",
              "2        [-1.00000000, -1.00000000]  -1.00000000    -1.00000000  \n",
              "3       [42.30971857, -71.10429432]  42.30971857   -71.10429432  \n",
              "4       [42.34942864, -71.06536641]  42.34942864   -71.06536641  \n",
              "...                             ...          ...            ...  \n",
              "125314  [42.39112008, -71.00229699]  42.39112008   -71.00229699  \n",
              "125315  [42.39248647, -71.00535725]  42.39248647   -71.00535725  \n",
              "125316  [42.39274002, -71.00479067]  42.39274002   -71.00479067  \n",
              "125317  [42.39348242, -71.01068177]  42.39348242   -71.01068177  \n",
              "125318  [42.39504158, -71.01017732]  42.39504158   -71.01017732  \n",
              "\n",
              "[125319 rows x 6 columns]"
            ]
          },
          "metadata": {
            "tags": []
          },
          "execution_count": 91
        }
      ]
    },
    {
      "cell_type": "code",
      "metadata": {
        "id": "IWLxoBeQ8PEx"
      },
      "source": [
        "crime_per_hour[['HOUR', 'Location', 'counts', 'Lat', 'Long']].to_csv('crime_per_hour_boston.csv',index=False)"
      ],
      "execution_count": null,
      "outputs": []
    },
    {
      "cell_type": "code",
      "metadata": {
        "id": "C_JU7oqC8PE0"
      },
      "source": [
        "# Save For App\n",
        "crime_per_hour.to_csv('crime_per_hour.csv',index=False)"
      ],
      "execution_count": null,
      "outputs": []
    }
  ]
}